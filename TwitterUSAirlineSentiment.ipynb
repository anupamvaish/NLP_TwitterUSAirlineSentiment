{
 "cells": [
  {
   "cell_type": "markdown",
   "metadata": {
    "id": "hGfFzKP6xKGG"
   },
   "source": [
    "### Import the libraries, load dataset, print shape of data, data description"
   ]
  },
  {
   "cell_type": "code",
   "execution_count": 49,
   "metadata": {
    "colab": {
     "base_uri": "https://localhost:8080/"
    },
    "id": "FqkhlkfJqV34",
    "outputId": "168303ac-9d29-4a36-ae4d-2567567259a2"
   },
   "outputs": [
    {
     "name": "stdout",
     "output_type": "stream",
     "text": [
      "Requirement already satisfied: contractions in /usr/local/lib/python3.7/dist-packages (0.0.48)\n",
      "Requirement already satisfied: textsearch>=0.0.21 in /usr/local/lib/python3.7/dist-packages (from contractions) (0.0.21)\n",
      "Requirement already satisfied: anyascii in /usr/local/lib/python3.7/dist-packages (from textsearch>=0.0.21->contractions) (0.1.7)\n",
      "Requirement already satisfied: pyahocorasick in /usr/local/lib/python3.7/dist-packages (from textsearch>=0.0.21->contractions) (1.4.2)\n",
      "[nltk_data] Downloading package stopwords to /root/nltk_data...\n",
      "[nltk_data]   Package stopwords is already up-to-date!\n",
      "[nltk_data] Downloading package punkt to /root/nltk_data...\n",
      "[nltk_data]   Package punkt is already up-to-date!\n",
      "[nltk_data] Downloading package wordnet to /root/nltk_data...\n",
      "[nltk_data]   Package wordnet is already up-to-date!\n"
     ]
    }
   ],
   "source": [
    "# Importing the libraries\n",
    "import re , unicodedata, string\n",
    "import numpy as np                                  #for large and multi-dimensional arrays\n",
    "import pandas as pd                                 #for data manipulation and analysis\n",
    "import nltk                                         #Natural language processing tool-kit\n",
    "!pip install contractions\n",
    "\n",
    "nltk.download('stopwords')\n",
    "nltk.download('punkt')\n",
    "nltk.download('wordnet')\n",
    "\n",
    "import contractions \n",
    "from nltk.corpus import stopwords                   #Stopwords corpus\n",
    "from nltk.stem import PorterStemmer                 # Stemmer\n",
    "from nltk.tokenize import word_tokenize \n",
    "\n",
    "from sklearn.ensemble import RandomForestClassifier\n",
    "from sklearn.model_selection import cross_val_score, train_test_split\n",
    "from sklearn.feature_extraction.text import CountVectorizer          #For Bag of words\n",
    "from sklearn.feature_extraction.text import TfidfVectorizer          #For TF-IDF\n",
    "from google.colab import drive\n",
    "from bs4 import BeautifulSoup\n",
    "\n",
    "from nltk.corpus import stopwords\n",
    "from nltk.tokenize import word_tokenize\n",
    "import spacy\n",
    "from nltk.stem.wordnet import WordNetLemmatizer \n",
    "\n",
    "import matplotlib.pyplot as plt\n",
    "import seaborn as sns\n",
    "from sklearn.metrics import confusion_matrix, classification_report"
   ]
  },
  {
   "cell_type": "code",
   "execution_count": 50,
   "metadata": {
    "colab": {
     "base_uri": "https://localhost:8080/",
     "height": 660
    },
    "id": "TRnHdUoSxcDi",
    "outputId": "bd3e985f-0411-4160-b9ec-9e08871317ff"
   },
   "outputs": [
    {
     "name": "stdout",
     "output_type": "stream",
     "text": [
      "Drive already mounted at /content/drive; to attempt to forcibly remount, call drive.mount(\"/content/drive\", force_remount=True).\n"
     ]
    },
    {
     "data": {
      "text/html": [
       "<div>\n",
       "<style scoped>\n",
       "    .dataframe tbody tr th:only-of-type {\n",
       "        vertical-align: middle;\n",
       "    }\n",
       "\n",
       "    .dataframe tbody tr th {\n",
       "        vertical-align: top;\n",
       "    }\n",
       "\n",
       "    .dataframe thead th {\n",
       "        text-align: right;\n",
       "    }\n",
       "</style>\n",
       "<table border=\"1\" class=\"dataframe\">\n",
       "  <thead>\n",
       "    <tr style=\"text-align: right;\">\n",
       "      <th></th>\n",
       "      <th>tweet_id</th>\n",
       "      <th>airline_sentiment</th>\n",
       "      <th>airline_sentiment_confidence</th>\n",
       "      <th>negativereason</th>\n",
       "      <th>negativereason_confidence</th>\n",
       "      <th>airline</th>\n",
       "      <th>airline_sentiment_gold</th>\n",
       "      <th>name</th>\n",
       "      <th>negativereason_gold</th>\n",
       "      <th>retweet_count</th>\n",
       "      <th>text</th>\n",
       "      <th>tweet_coord</th>\n",
       "      <th>tweet_created</th>\n",
       "      <th>tweet_location</th>\n",
       "      <th>user_timezone</th>\n",
       "    </tr>\n",
       "  </thead>\n",
       "  <tbody>\n",
       "    <tr>\n",
       "      <th>0</th>\n",
       "      <td>570306133677760513</td>\n",
       "      <td>neutral</td>\n",
       "      <td>1.0000</td>\n",
       "      <td>NaN</td>\n",
       "      <td>NaN</td>\n",
       "      <td>Virgin America</td>\n",
       "      <td>NaN</td>\n",
       "      <td>cairdin</td>\n",
       "      <td>NaN</td>\n",
       "      <td>0</td>\n",
       "      <td>@VirginAmerica What @dhepburn said.</td>\n",
       "      <td>NaN</td>\n",
       "      <td>2015-02-24 11:35:52 -0800</td>\n",
       "      <td>NaN</td>\n",
       "      <td>Eastern Time (US &amp; Canada)</td>\n",
       "    </tr>\n",
       "    <tr>\n",
       "      <th>1</th>\n",
       "      <td>570301130888122368</td>\n",
       "      <td>positive</td>\n",
       "      <td>0.3486</td>\n",
       "      <td>NaN</td>\n",
       "      <td>0.0000</td>\n",
       "      <td>Virgin America</td>\n",
       "      <td>NaN</td>\n",
       "      <td>jnardino</td>\n",
       "      <td>NaN</td>\n",
       "      <td>0</td>\n",
       "      <td>@VirginAmerica plus you've added commercials to the experience... tacky.</td>\n",
       "      <td>NaN</td>\n",
       "      <td>2015-02-24 11:15:59 -0800</td>\n",
       "      <td>NaN</td>\n",
       "      <td>Pacific Time (US &amp; Canada)</td>\n",
       "    </tr>\n",
       "    <tr>\n",
       "      <th>2</th>\n",
       "      <td>570301083672813571</td>\n",
       "      <td>neutral</td>\n",
       "      <td>0.6837</td>\n",
       "      <td>NaN</td>\n",
       "      <td>NaN</td>\n",
       "      <td>Virgin America</td>\n",
       "      <td>NaN</td>\n",
       "      <td>yvonnalynn</td>\n",
       "      <td>NaN</td>\n",
       "      <td>0</td>\n",
       "      <td>@VirginAmerica I didn't today... Must mean I need to take another trip!</td>\n",
       "      <td>NaN</td>\n",
       "      <td>2015-02-24 11:15:48 -0800</td>\n",
       "      <td>Lets Play</td>\n",
       "      <td>Central Time (US &amp; Canada)</td>\n",
       "    </tr>\n",
       "    <tr>\n",
       "      <th>3</th>\n",
       "      <td>570301031407624196</td>\n",
       "      <td>negative</td>\n",
       "      <td>1.0000</td>\n",
       "      <td>Bad Flight</td>\n",
       "      <td>0.7033</td>\n",
       "      <td>Virgin America</td>\n",
       "      <td>NaN</td>\n",
       "      <td>jnardino</td>\n",
       "      <td>NaN</td>\n",
       "      <td>0</td>\n",
       "      <td>@VirginAmerica it's really aggressive to blast obnoxious \"entertainment\" in your guests' faces &amp;amp; they have little recourse</td>\n",
       "      <td>NaN</td>\n",
       "      <td>2015-02-24 11:15:36 -0800</td>\n",
       "      <td>NaN</td>\n",
       "      <td>Pacific Time (US &amp; Canada)</td>\n",
       "    </tr>\n",
       "    <tr>\n",
       "      <th>4</th>\n",
       "      <td>570300817074462722</td>\n",
       "      <td>negative</td>\n",
       "      <td>1.0000</td>\n",
       "      <td>Can't Tell</td>\n",
       "      <td>1.0000</td>\n",
       "      <td>Virgin America</td>\n",
       "      <td>NaN</td>\n",
       "      <td>jnardino</td>\n",
       "      <td>NaN</td>\n",
       "      <td>0</td>\n",
       "      <td>@VirginAmerica and it's a really big bad thing about it</td>\n",
       "      <td>NaN</td>\n",
       "      <td>2015-02-24 11:14:45 -0800</td>\n",
       "      <td>NaN</td>\n",
       "      <td>Pacific Time (US &amp; Canada)</td>\n",
       "    </tr>\n",
       "  </tbody>\n",
       "</table>\n",
       "</div>"
      ],
      "text/plain": [
       "             tweet_id  ...               user_timezone\n",
       "0  570306133677760513  ...  Eastern Time (US & Canada)\n",
       "1  570301130888122368  ...  Pacific Time (US & Canada)\n",
       "2  570301083672813571  ...  Central Time (US & Canada)\n",
       "3  570301031407624196  ...  Pacific Time (US & Canada)\n",
       "4  570300817074462722  ...  Pacific Time (US & Canada)\n",
       "\n",
       "[5 rows x 15 columns]"
      ]
     },
     "execution_count": 50,
     "metadata": {
      "tags": []
     },
     "output_type": "execute_result"
    }
   ],
   "source": [
    "# Loading Data\n",
    "drive.mount('/content/drive')    \n",
    "tweets = pd.read_csv(\"/content/drive/My Drive/NLP/Tweets.csv\")#, header=0,delimiter=\"\\t\", quoting=3)\n",
    "tweets.head()"
   ]
  },
  {
   "cell_type": "code",
   "execution_count": 51,
   "metadata": {
    "colab": {
     "base_uri": "https://localhost:8080/"
    },
    "id": "VVnhWVaayNty",
    "outputId": "347e635e-290f-4956-b32c-bf771d75066f"
   },
   "outputs": [
    {
     "data": {
      "text/plain": [
       "(14640, 15)"
      ]
     },
     "execution_count": 51,
     "metadata": {
      "tags": []
     },
     "output_type": "execute_result"
    }
   ],
   "source": [
    "# Printing Shape of Data\n",
    "tweets.shape"
   ]
  },
  {
   "cell_type": "code",
   "execution_count": 52,
   "metadata": {
    "colab": {
     "base_uri": "https://localhost:8080/"
    },
    "id": "zrFkm5MqySud",
    "outputId": "235f547f-4993-4135-9536-b4badfb6e0bf"
   },
   "outputs": [
    {
     "name": "stdout",
     "output_type": "stream",
     "text": [
      "<class 'pandas.core.frame.DataFrame'>\n",
      "RangeIndex: 14640 entries, 0 to 14639\n",
      "Data columns (total 15 columns):\n",
      " #   Column                        Non-Null Count  Dtype  \n",
      "---  ------                        --------------  -----  \n",
      " 0   tweet_id                      14640 non-null  int64  \n",
      " 1   airline_sentiment             14640 non-null  object \n",
      " 2   airline_sentiment_confidence  14640 non-null  float64\n",
      " 3   negativereason                9178 non-null   object \n",
      " 4   negativereason_confidence     10522 non-null  float64\n",
      " 5   airline                       14640 non-null  object \n",
      " 6   airline_sentiment_gold        40 non-null     object \n",
      " 7   name                          14640 non-null  object \n",
      " 8   negativereason_gold           32 non-null     object \n",
      " 9   retweet_count                 14640 non-null  int64  \n",
      " 10  text                          14640 non-null  object \n",
      " 11  tweet_coord                   1019 non-null   object \n",
      " 12  tweet_created                 14640 non-null  object \n",
      " 13  tweet_location                9907 non-null   object \n",
      " 14  user_timezone                 9820 non-null   object \n",
      "dtypes: float64(2), int64(2), object(11)\n",
      "memory usage: 1.7+ MB\n"
     ]
    }
   ],
   "source": [
    "# Data Description\n",
    "tweets.info()"
   ]
  },
  {
   "cell_type": "markdown",
   "metadata": {
    "id": "LrK8MNQuzDem"
   },
   "source": [
    "### Understand of data-columns"
   ]
  },
  {
   "cell_type": "code",
   "execution_count": 53,
   "metadata": {
    "id": "7tEdF0okbcO4"
   },
   "outputs": [],
   "source": [
    "pd.set_option('display.max_colwidth', None)"
   ]
  },
  {
   "cell_type": "code",
   "execution_count": 54,
   "metadata": {
    "id": "uAQmI0Uqyi3V"
   },
   "outputs": [],
   "source": [
    "# Drop all columns except \"text\" & \"airline sentiment\"\n",
    "tweets2=tweets[['airline_sentiment','text']].copy()\n"
   ]
  },
  {
   "cell_type": "code",
   "execution_count": 55,
   "metadata": {
    "colab": {
     "base_uri": "https://localhost:8080/"
    },
    "id": "vbf5LNky0BCV",
    "outputId": "ff0742c6-75de-4322-c0d5-3d01333fdc5e"
   },
   "outputs": [
    {
     "data": {
      "text/plain": [
       "(14640, 2)"
      ]
     },
     "execution_count": 55,
     "metadata": {
      "tags": []
     },
     "output_type": "execute_result"
    }
   ],
   "source": [
    "# Shape of Data after dropping\n",
    "tweets2.shape"
   ]
  },
  {
   "cell_type": "code",
   "execution_count": 56,
   "metadata": {
    "colab": {
     "base_uri": "https://localhost:8080/",
     "height": 206
    },
    "id": "AIwlWZhHzE-y",
    "outputId": "149a0411-781b-4232-be66-2470d8dfa039"
   },
   "outputs": [
    {
     "data": {
      "text/html": [
       "<div>\n",
       "<style scoped>\n",
       "    .dataframe tbody tr th:only-of-type {\n",
       "        vertical-align: middle;\n",
       "    }\n",
       "\n",
       "    .dataframe tbody tr th {\n",
       "        vertical-align: top;\n",
       "    }\n",
       "\n",
       "    .dataframe thead th {\n",
       "        text-align: right;\n",
       "    }\n",
       "</style>\n",
       "<table border=\"1\" class=\"dataframe\">\n",
       "  <thead>\n",
       "    <tr style=\"text-align: right;\">\n",
       "      <th></th>\n",
       "      <th>airline_sentiment</th>\n",
       "      <th>text</th>\n",
       "    </tr>\n",
       "  </thead>\n",
       "  <tbody>\n",
       "    <tr>\n",
       "      <th>0</th>\n",
       "      <td>neutral</td>\n",
       "      <td>@VirginAmerica What @dhepburn said.</td>\n",
       "    </tr>\n",
       "    <tr>\n",
       "      <th>1</th>\n",
       "      <td>positive</td>\n",
       "      <td>@VirginAmerica plus you've added commercials to the experience... tacky.</td>\n",
       "    </tr>\n",
       "    <tr>\n",
       "      <th>2</th>\n",
       "      <td>neutral</td>\n",
       "      <td>@VirginAmerica I didn't today... Must mean I need to take another trip!</td>\n",
       "    </tr>\n",
       "    <tr>\n",
       "      <th>3</th>\n",
       "      <td>negative</td>\n",
       "      <td>@VirginAmerica it's really aggressive to blast obnoxious \"entertainment\" in your guests' faces &amp;amp; they have little recourse</td>\n",
       "    </tr>\n",
       "    <tr>\n",
       "      <th>4</th>\n",
       "      <td>negative</td>\n",
       "      <td>@VirginAmerica and it's a really big bad thing about it</td>\n",
       "    </tr>\n",
       "  </tbody>\n",
       "</table>\n",
       "</div>"
      ],
      "text/plain": [
       "  airline_sentiment                                                                                                                            text\n",
       "0           neutral                                                                                             @VirginAmerica What @dhepburn said.\n",
       "1          positive                                                        @VirginAmerica plus you've added commercials to the experience... tacky.\n",
       "2           neutral                                                         @VirginAmerica I didn't today... Must mean I need to take another trip!\n",
       "3          negative  @VirginAmerica it's really aggressive to blast obnoxious \"entertainment\" in your guests' faces &amp; they have little recourse\n",
       "4          negative                                                                         @VirginAmerica and it's a really big bad thing about it"
      ]
     },
     "execution_count": 56,
     "metadata": {
      "tags": []
     },
     "output_type": "execute_result"
    }
   ],
   "source": [
    "# Printing first 5 rows of the new DataSet\n",
    "tweets2.head()"
   ]
  },
  {
   "cell_type": "code",
   "execution_count": 57,
   "metadata": {
    "colab": {
     "base_uri": "https://localhost:8080/"
    },
    "id": "6CVF3dXB0Ki9",
    "outputId": "2e38ab80-1ee7-4f0e-f308-f6eb8a1fd26d"
   },
   "outputs": [
    {
     "name": "stdout",
     "output_type": "stream",
     "text": [
      "<class 'pandas.core.frame.DataFrame'>\n",
      "RangeIndex: 14640 entries, 0 to 14639\n",
      "Data columns (total 2 columns):\n",
      " #   Column             Non-Null Count  Dtype \n",
      "---  ------             --------------  ----- \n",
      " 0   airline_sentiment  14640 non-null  object\n",
      " 1   text               14640 non-null  object\n",
      "dtypes: object(2)\n",
      "memory usage: 228.9+ KB\n"
     ]
    }
   ],
   "source": [
    "# Printing the info of the dataframe\n",
    "tweets2.info()"
   ]
  },
  {
   "cell_type": "markdown",
   "metadata": {
    "id": "wGfshJZwTqDW"
   },
   "source": [
    "Observation: Both columns are of type \"object\"\n"
   ]
  },
  {
   "cell_type": "markdown",
   "metadata": {
    "id": "2l6tT4ZL0RF4"
   },
   "source": [
    "#### Observations: The new dataset has no nulls."
   ]
  },
  {
   "cell_type": "code",
   "execution_count": 58,
   "metadata": {
    "colab": {
     "base_uri": "https://localhost:8080/"
    },
    "id": "y3PXxF2XbpNu",
    "outputId": "dadf6c8c-117c-4269-94e1-8ff253290047"
   },
   "outputs": [
    {
     "data": {
      "text/plain": [
       "negative    9178\n",
       "neutral     3099\n",
       "positive    2363\n",
       "Name: airline_sentiment, dtype: int64"
      ]
     },
     "execution_count": 58,
     "metadata": {
      "tags": []
     },
     "output_type": "execute_result"
    }
   ],
   "source": [
    "# Printing the value counts of the Airline Sentiments\n",
    "tweets2['airline_sentiment'].value_counts()"
   ]
  },
  {
   "cell_type": "code",
   "execution_count": 59,
   "metadata": {
    "colab": {
     "base_uri": "https://localhost:8080/",
     "height": 206
    },
    "id": "vk5jJ8yXbjn7",
    "outputId": "6105ede8-1d96-4e23-b57b-4eacf8ccfc06"
   },
   "outputs": [
    {
     "data": {
      "text/html": [
       "<div>\n",
       "<style scoped>\n",
       "    .dataframe tbody tr th:only-of-type {\n",
       "        vertical-align: middle;\n",
       "    }\n",
       "\n",
       "    .dataframe tbody tr th {\n",
       "        vertical-align: top;\n",
       "    }\n",
       "\n",
       "    .dataframe thead th {\n",
       "        text-align: right;\n",
       "    }\n",
       "</style>\n",
       "<table border=\"1\" class=\"dataframe\">\n",
       "  <thead>\n",
       "    <tr style=\"text-align: right;\">\n",
       "      <th></th>\n",
       "      <th>airline_sentiment</th>\n",
       "      <th>text</th>\n",
       "    </tr>\n",
       "  </thead>\n",
       "  <tbody>\n",
       "    <tr>\n",
       "      <th>0</th>\n",
       "      <td>1</td>\n",
       "      <td>@VirginAmerica What @dhepburn said.</td>\n",
       "    </tr>\n",
       "    <tr>\n",
       "      <th>1</th>\n",
       "      <td>2</td>\n",
       "      <td>@VirginAmerica plus you've added commercials to the experience... tacky.</td>\n",
       "    </tr>\n",
       "    <tr>\n",
       "      <th>2</th>\n",
       "      <td>1</td>\n",
       "      <td>@VirginAmerica I didn't today... Must mean I need to take another trip!</td>\n",
       "    </tr>\n",
       "    <tr>\n",
       "      <th>3</th>\n",
       "      <td>0</td>\n",
       "      <td>@VirginAmerica it's really aggressive to blast obnoxious \"entertainment\" in your guests' faces &amp;amp; they have little recourse</td>\n",
       "    </tr>\n",
       "    <tr>\n",
       "      <th>4</th>\n",
       "      <td>0</td>\n",
       "      <td>@VirginAmerica and it's a really big bad thing about it</td>\n",
       "    </tr>\n",
       "  </tbody>\n",
       "</table>\n",
       "</div>"
      ],
      "text/plain": [
       "   airline_sentiment                                                                                                                            text\n",
       "0                  1                                                                                             @VirginAmerica What @dhepburn said.\n",
       "1                  2                                                        @VirginAmerica plus you've added commercials to the experience... tacky.\n",
       "2                  1                                                         @VirginAmerica I didn't today... Must mean I need to take another trip!\n",
       "3                  0  @VirginAmerica it's really aggressive to blast obnoxious \"entertainment\" in your guests' faces &amp; they have little recourse\n",
       "4                  0                                                                         @VirginAmerica and it's a really big bad thing about it"
      ]
     },
     "execution_count": 59,
     "metadata": {
      "tags": []
     },
     "output_type": "execute_result"
    }
   ],
   "source": [
    "# Mapping Sentiments text to Numbers\n",
    "mapping={'negative':0,'neutral':1,'positive':2}\n",
    "tweets2['airline_sentiment']=tweets2['airline_sentiment'].replace(mapping)\n",
    "tweets2.head()"
   ]
  },
  {
   "cell_type": "markdown",
   "metadata": {
    "id": "wH7z7lRv0YWb"
   },
   "source": [
    "### Text pre-processing:"
   ]
  },
  {
   "cell_type": "code",
   "execution_count": 60,
   "metadata": {
    "colab": {
     "base_uri": "https://localhost:8080/",
     "height": 363
    },
    "id": "98uhSBgl0LzG",
    "outputId": "09a8bfd2-caee-479e-f390-32c5220358e8"
   },
   "outputs": [
    {
     "data": {
      "text/html": [
       "<div>\n",
       "<style scoped>\n",
       "    .dataframe tbody tr th:only-of-type {\n",
       "        vertical-align: middle;\n",
       "    }\n",
       "\n",
       "    .dataframe tbody tr th {\n",
       "        vertical-align: top;\n",
       "    }\n",
       "\n",
       "    .dataframe thead th {\n",
       "        text-align: right;\n",
       "    }\n",
       "</style>\n",
       "<table border=\"1\" class=\"dataframe\">\n",
       "  <thead>\n",
       "    <tr style=\"text-align: right;\">\n",
       "      <th></th>\n",
       "      <th>airline_sentiment</th>\n",
       "      <th>text</th>\n",
       "    </tr>\n",
       "  </thead>\n",
       "  <tbody>\n",
       "    <tr>\n",
       "      <th>0</th>\n",
       "      <td>1</td>\n",
       "      <td>@VirginAmerica What @dhepburn said.</td>\n",
       "    </tr>\n",
       "    <tr>\n",
       "      <th>1</th>\n",
       "      <td>2</td>\n",
       "      <td>@VirginAmerica plus you've added commercials to the experience... tacky.</td>\n",
       "    </tr>\n",
       "    <tr>\n",
       "      <th>2</th>\n",
       "      <td>1</td>\n",
       "      <td>@VirginAmerica I didn't today... Must mean I need to take another trip!</td>\n",
       "    </tr>\n",
       "    <tr>\n",
       "      <th>3</th>\n",
       "      <td>0</td>\n",
       "      <td>@VirginAmerica it's really aggressive to blast obnoxious \"entertainment\" in your guests' faces &amp;amp; they have little recourse</td>\n",
       "    </tr>\n",
       "    <tr>\n",
       "      <th>4</th>\n",
       "      <td>0</td>\n",
       "      <td>@VirginAmerica and it's a really big bad thing about it</td>\n",
       "    </tr>\n",
       "    <tr>\n",
       "      <th>5</th>\n",
       "      <td>0</td>\n",
       "      <td>@VirginAmerica seriously would pay $30 a flight for seats that didn't have this playing.\\nit's really the only bad thing about flying VA</td>\n",
       "    </tr>\n",
       "    <tr>\n",
       "      <th>6</th>\n",
       "      <td>2</td>\n",
       "      <td>@VirginAmerica yes, nearly every time I fly VX this “ear worm” won’t go away :)</td>\n",
       "    </tr>\n",
       "    <tr>\n",
       "      <th>7</th>\n",
       "      <td>1</td>\n",
       "      <td>@VirginAmerica Really missed a prime opportunity for Men Without Hats parody, there. https://t.co/mWpG7grEZP</td>\n",
       "    </tr>\n",
       "    <tr>\n",
       "      <th>8</th>\n",
       "      <td>2</td>\n",
       "      <td>@virginamerica Well, I didn't…but NOW I DO! :-D</td>\n",
       "    </tr>\n",
       "    <tr>\n",
       "      <th>9</th>\n",
       "      <td>2</td>\n",
       "      <td>@VirginAmerica it was amazing, and arrived an hour early. You're too good to me.</td>\n",
       "    </tr>\n",
       "  </tbody>\n",
       "</table>\n",
       "</div>"
      ],
      "text/plain": [
       "   airline_sentiment                                                                                                                                      text\n",
       "0                  1                                                                                                       @VirginAmerica What @dhepburn said.\n",
       "1                  2                                                                  @VirginAmerica plus you've added commercials to the experience... tacky.\n",
       "2                  1                                                                   @VirginAmerica I didn't today... Must mean I need to take another trip!\n",
       "3                  0            @VirginAmerica it's really aggressive to blast obnoxious \"entertainment\" in your guests' faces &amp; they have little recourse\n",
       "4                  0                                                                                   @VirginAmerica and it's a really big bad thing about it\n",
       "5                  0  @VirginAmerica seriously would pay $30 a flight for seats that didn't have this playing.\\nit's really the only bad thing about flying VA\n",
       "6                  2                                                           @VirginAmerica yes, nearly every time I fly VX this “ear worm” won’t go away :)\n",
       "7                  1                              @VirginAmerica Really missed a prime opportunity for Men Without Hats parody, there. https://t.co/mWpG7grEZP\n",
       "8                  2                                                                                           @virginamerica Well, I didn't…but NOW I DO! :-D\n",
       "9                  2                                                          @VirginAmerica it was amazing, and arrived an hour early. You're too good to me."
      ]
     },
     "execution_count": 60,
     "metadata": {
      "tags": []
     },
     "output_type": "execute_result"
    }
   ],
   "source": [
    "tweets2.head(10)"
   ]
  },
  {
   "cell_type": "code",
   "execution_count": 61,
   "metadata": {
    "colab": {
     "base_uri": "https://localhost:8080/"
    },
    "id": "hh4kTfIM-_K6",
    "outputId": "13dce838-e469-4e82-dea8-bd894c1b60a8"
   },
   "outputs": [
    {
     "name": "stdout",
     "output_type": "stream",
     "text": [
      "['i', 'me', 'my', 'myself', 'we', 'our', 'ours', 'ourselves', 'you', \"you're\", \"you've\", \"you'll\", \"you'd\", 'your', 'yours', 'yourself', 'yourselves', 'he', 'him', 'his', 'himself', 'she', \"she's\", 'her', 'hers', 'herself', 'it', \"it's\", 'its', 'itself', 'they', 'them', 'their', 'theirs', 'themselves', 'what', 'which', 'who', 'whom', 'this', 'that', \"that'll\", 'these', 'those', 'am', 'is', 'are', 'was', 'were', 'be', 'been', 'being', 'have', 'has', 'had', 'having', 'do', 'does', 'did', 'doing', 'a', 'an', 'the', 'and', 'but', 'if', 'or', 'because', 'as', 'until', 'while', 'of', 'at', 'by', 'for', 'with', 'about', 'against', 'between', 'into', 'through', 'during', 'before', 'after', 'above', 'below', 'to', 'from', 'up', 'down', 'in', 'out', 'on', 'off', 'over', 'under', 'again', 'further', 'then', 'once', 'here', 'there', 'when', 'where', 'why', 'how', 'all', 'any', 'both', 'each', 'few', 'more', 'most', 'other', 'some', 'such', 'no', 'nor', 'not', 'only', 'own', 'same', 'so', 'than', 'too', 'very', 's', 't', 'can', 'will', 'just', 'don', \"don't\", 'should', \"should've\", 'now', 'd', 'll', 'm', 'o', 're', 've', 'y', 'ain', 'aren', \"aren't\", 'couldn', \"couldn't\", 'didn', \"didn't\", 'doesn', \"doesn't\", 'hadn', \"hadn't\", 'hasn', \"hasn't\", 'haven', \"haven't\", 'isn', \"isn't\", 'ma', 'mightn', \"mightn't\", 'mustn', \"mustn't\", 'needn', \"needn't\", 'shan', \"shan't\", 'shouldn', \"shouldn't\", 'wasn', \"wasn't\", 'weren', \"weren't\", 'won', \"won't\", 'wouldn', \"wouldn't\"]\n"
     ]
    }
   ],
   "source": [
    "# Printing Stop words and removing custom list from it\n",
    "print (stopwords.words(\"english\")) \n",
    "stopwords = stopwords.words('english')\n",
    "customlist = ['not', \"couldn't\", 'didn', \"didn't\", 'doesn', \"doesn't\", 'hadn', \"hadn't\", 'hasn',\n",
    "        \"hasn't\", 'haven', \"haven't\", 'isn', \"isn't\", 'ma', 'mightn', \"mightn't\", 'mustn',\n",
    "        \"mustn't\", 'needn', \"needn't\", 'shan', \"shan't\", 'shouldn', \"shouldn't\", 'wasn',\n",
    "        \"wasn't\", 'weren', \"weren't\", 'won', \"won't\", 'wouldn', \"wouldn't\",'no','nor']\n",
    "\n",
    "# Set custom stop-word's list as not, couldn't etc. words matter in Sentiment, so not removing them from original data.\n",
    "\n",
    "stopwords = list(set(stopwords) - set(customlist))\n",
    "# Appending words in stoplist\n",
    "stopwords.append('shall');stopwords.append('must');stopwords.append('could')\n",
    "stopwords.append('might');stopwords.append('need')     "
   ]
  },
  {
   "cell_type": "code",
   "execution_count": 62,
   "metadata": {
    "colab": {
     "base_uri": "https://localhost:8080/"
    },
    "id": "rAHty2NAEJFj",
    "outputId": "f76f56b1-6645-47fd-c924-d5e3750fd5b4"
   },
   "outputs": [
    {
     "name": "stdout",
     "output_type": "stream",
     "text": [
      "wordstr--  not couldn't didn didn't doesn doesn't hadn hadn't hasn hasn't haven haven't isn isn't ma mightn mightn't mustn mustn't needn needn't shan shan't shouldn shouldn't wasn wasn't weren weren't won won't wouldn wouldn't no nor\n",
      "wordstr--  not could not didn did not doesn does not hadn had not hasn has not haven have not isn is not ma mightn might not mustn must not needn need not shan shall not shouldn should not wasn was not weren were not won will not wouldn would not no nor\n",
      " not not didn not doesn not hadn not hasn not haven not isn not ma mightn not mustn not needn not shan not shouldn not wasn not weren not won not wouldn would not no nor\n"
     ]
    }
   ],
   "source": [
    "# Working to check the stoplist is working on customlist\n",
    "custom=\"\"\n",
    "for w in customlist:\n",
    "  #print(w)\n",
    "  if w not in stopwords:\n",
    "    #new_words.append(w)\n",
    "    custom=custom+' '+w\n",
    "    #new_words1=' '.join(w)\n",
    "print(\"wordstr--\",custom)\n",
    "new_custom=contractions.fix(custom)\n",
    "print(\"wordstr--\",new_custom)\n",
    "wordstr=\"\"\n",
    "tokens = word_tokenize(new_custom)\n",
    "for w in tokens:\n",
    "  if w not in stopwords:\n",
    "    wordstr=wordstr+' '+w\n",
    "print(wordstr)"
   ]
  },
  {
   "cell_type": "code",
   "execution_count": 63,
   "metadata": {
    "colab": {
     "base_uri": "https://localhost:8080/",
     "height": 363
    },
    "id": "dCnB7NB1X_XG",
    "outputId": "4ffaecd4-b178-4c2f-be96-f80c366a3074"
   },
   "outputs": [
    {
     "data": {
      "text/html": [
       "<div>\n",
       "<style scoped>\n",
       "    .dataframe tbody tr th:only-of-type {\n",
       "        vertical-align: middle;\n",
       "    }\n",
       "\n",
       "    .dataframe tbody tr th {\n",
       "        vertical-align: top;\n",
       "    }\n",
       "\n",
       "    .dataframe thead th {\n",
       "        text-align: right;\n",
       "    }\n",
       "</style>\n",
       "<table border=\"1\" class=\"dataframe\">\n",
       "  <thead>\n",
       "    <tr style=\"text-align: right;\">\n",
       "      <th></th>\n",
       "      <th>airline_sentiment</th>\n",
       "      <th>text</th>\n",
       "    </tr>\n",
       "  </thead>\n",
       "  <tbody>\n",
       "    <tr>\n",
       "      <th>0</th>\n",
       "      <td>1</td>\n",
       "      <td>@VirginAmerica What @dhepburn said.</td>\n",
       "    </tr>\n",
       "    <tr>\n",
       "      <th>1</th>\n",
       "      <td>2</td>\n",
       "      <td>@VirginAmerica plus you've added commercials to the experience... tacky.</td>\n",
       "    </tr>\n",
       "    <tr>\n",
       "      <th>2</th>\n",
       "      <td>1</td>\n",
       "      <td>@VirginAmerica I didn't today... Must mean I need to take another trip!</td>\n",
       "    </tr>\n",
       "    <tr>\n",
       "      <th>3</th>\n",
       "      <td>0</td>\n",
       "      <td>@VirginAmerica it's really aggressive to blast obnoxious \"entertainment\" in your guests' faces &amp; they have little recourse</td>\n",
       "    </tr>\n",
       "    <tr>\n",
       "      <th>4</th>\n",
       "      <td>0</td>\n",
       "      <td>@VirginAmerica and it's a really big bad thing about it</td>\n",
       "    </tr>\n",
       "    <tr>\n",
       "      <th>5</th>\n",
       "      <td>0</td>\n",
       "      <td>@VirginAmerica seriously would pay $30 a flight for seats that didn't have this playing.\\nit's really the only bad thing about flying VA</td>\n",
       "    </tr>\n",
       "    <tr>\n",
       "      <th>6</th>\n",
       "      <td>2</td>\n",
       "      <td>@VirginAmerica yes, nearly every time I fly VX this “ear worm” won’t go away :)</td>\n",
       "    </tr>\n",
       "    <tr>\n",
       "      <th>7</th>\n",
       "      <td>1</td>\n",
       "      <td>@VirginAmerica Really missed a prime opportunity for Men Without Hats parody, there. https://t.co/mWpG7grEZP</td>\n",
       "    </tr>\n",
       "    <tr>\n",
       "      <th>8</th>\n",
       "      <td>2</td>\n",
       "      <td>@virginamerica Well, I didn't…but NOW I DO! :-D</td>\n",
       "    </tr>\n",
       "    <tr>\n",
       "      <th>9</th>\n",
       "      <td>2</td>\n",
       "      <td>@VirginAmerica it was amazing, and arrived an hour early. You're too good to me.</td>\n",
       "    </tr>\n",
       "  </tbody>\n",
       "</table>\n",
       "</div>"
      ],
      "text/plain": [
       "   airline_sentiment                                                                                                                                      text\n",
       "0                  1                                                                                                       @VirginAmerica What @dhepburn said.\n",
       "1                  2                                                                  @VirginAmerica plus you've added commercials to the experience... tacky.\n",
       "2                  1                                                                   @VirginAmerica I didn't today... Must mean I need to take another trip!\n",
       "3                  0                @VirginAmerica it's really aggressive to blast obnoxious \"entertainment\" in your guests' faces & they have little recourse\n",
       "4                  0                                                                                   @VirginAmerica and it's a really big bad thing about it\n",
       "5                  0  @VirginAmerica seriously would pay $30 a flight for seats that didn't have this playing.\\nit's really the only bad thing about flying VA\n",
       "6                  2                                                           @VirginAmerica yes, nearly every time I fly VX this “ear worm” won’t go away :)\n",
       "7                  1                              @VirginAmerica Really missed a prime opportunity for Men Without Hats parody, there. https://t.co/mWpG7grEZP\n",
       "8                  2                                                                                           @virginamerica Well, I didn't…but NOW I DO! :-D\n",
       "9                  2                                                          @VirginAmerica it was amazing, and arrived an hour early. You're too good to me."
      ]
     },
     "execution_count": 63,
     "metadata": {
      "tags": []
     },
     "output_type": "execute_result"
    }
   ],
   "source": [
    "### Removing HTML Tags\n",
    "def remove_html(text):\n",
    "    html_remove = BeautifulSoup(text, \"html.parser\").get_text() \n",
    "    return html_remove\n",
    "\n",
    "tweets2[\"text\"] = tweets2[\"text\"].apply(lambda x: remove_html(x))\n",
    "tweets2.head(10)"
   ]
  },
  {
   "cell_type": "code",
   "execution_count": 64,
   "metadata": {
    "colab": {
     "base_uri": "https://localhost:8080/",
     "height": 363
    },
    "id": "vG6Lw58Obwx8",
    "outputId": "0341c679-cc3d-4238-dddb-ab2587e1bdc0"
   },
   "outputs": [
    {
     "data": {
      "text/html": [
       "<div>\n",
       "<style scoped>\n",
       "    .dataframe tbody tr th:only-of-type {\n",
       "        vertical-align: middle;\n",
       "    }\n",
       "\n",
       "    .dataframe tbody tr th {\n",
       "        vertical-align: top;\n",
       "    }\n",
       "\n",
       "    .dataframe thead th {\n",
       "        text-align: right;\n",
       "    }\n",
       "</style>\n",
       "<table border=\"1\" class=\"dataframe\">\n",
       "  <thead>\n",
       "    <tr style=\"text-align: right;\">\n",
       "      <th></th>\n",
       "      <th>airline_sentiment</th>\n",
       "      <th>text</th>\n",
       "    </tr>\n",
       "  </thead>\n",
       "  <tbody>\n",
       "    <tr>\n",
       "      <th>0</th>\n",
       "      <td>1</td>\n",
       "      <td>@VirginAmerica What @dhepburn said.</td>\n",
       "    </tr>\n",
       "    <tr>\n",
       "      <th>1</th>\n",
       "      <td>2</td>\n",
       "      <td>@VirginAmerica plus you have added commercials to the experience... tacky.</td>\n",
       "    </tr>\n",
       "    <tr>\n",
       "      <th>2</th>\n",
       "      <td>1</td>\n",
       "      <td>@VirginAmerica I did not today... Must mean I need to take another trip!</td>\n",
       "    </tr>\n",
       "    <tr>\n",
       "      <th>3</th>\n",
       "      <td>0</td>\n",
       "      <td>@VirginAmerica it is really aggressive to blast obnoxious \"entertainment\" in your guests' faces &amp; they have little recourse</td>\n",
       "    </tr>\n",
       "    <tr>\n",
       "      <th>4</th>\n",
       "      <td>0</td>\n",
       "      <td>@VirginAmerica and it is a really big bad thing about it</td>\n",
       "    </tr>\n",
       "    <tr>\n",
       "      <th>5</th>\n",
       "      <td>0</td>\n",
       "      <td>@VirginAmerica seriously would pay $30 a flight for seats that did not have this playing.\\nit is really the only bad thing about flying VA</td>\n",
       "    </tr>\n",
       "    <tr>\n",
       "      <th>6</th>\n",
       "      <td>2</td>\n",
       "      <td>@VirginAmerica yes, nearly every time I fly VX this “ear worm” will not go away :)</td>\n",
       "    </tr>\n",
       "    <tr>\n",
       "      <th>7</th>\n",
       "      <td>1</td>\n",
       "      <td>@VirginAmerica Really missed a prime opportunity for Men Without Hats parody, there. https://t.co/mWpG7grEZP</td>\n",
       "    </tr>\n",
       "    <tr>\n",
       "      <th>8</th>\n",
       "      <td>2</td>\n",
       "      <td>@virginamerica Well, I did not…but NOW I DO! :-D</td>\n",
       "    </tr>\n",
       "    <tr>\n",
       "      <th>9</th>\n",
       "      <td>2</td>\n",
       "      <td>@VirginAmerica it was amazing, and arrived an hour early. you are too good to me.</td>\n",
       "    </tr>\n",
       "  </tbody>\n",
       "</table>\n",
       "</div>"
      ],
      "text/plain": [
       "   airline_sentiment                                                                                                                                        text\n",
       "0                  1                                                                                                         @VirginAmerica What @dhepburn said.\n",
       "1                  2                                                                  @VirginAmerica plus you have added commercials to the experience... tacky.\n",
       "2                  1                                                                    @VirginAmerica I did not today... Must mean I need to take another trip!\n",
       "3                  0                 @VirginAmerica it is really aggressive to blast obnoxious \"entertainment\" in your guests' faces & they have little recourse\n",
       "4                  0                                                                                    @VirginAmerica and it is a really big bad thing about it\n",
       "5                  0  @VirginAmerica seriously would pay $30 a flight for seats that did not have this playing.\\nit is really the only bad thing about flying VA\n",
       "6                  2                                                          @VirginAmerica yes, nearly every time I fly VX this “ear worm” will not go away :)\n",
       "7                  1                                @VirginAmerica Really missed a prime opportunity for Men Without Hats parody, there. https://t.co/mWpG7grEZP\n",
       "8                  2                                                                                            @virginamerica Well, I did not…but NOW I DO! :-D\n",
       "9                  2                                                           @VirginAmerica it was amazing, and arrived an hour early. you are too good to me."
      ]
     },
     "execution_count": 64,
     "metadata": {
      "tags": []
     },
     "output_type": "execute_result"
    }
   ],
   "source": [
    "### Replace contractions in string\n",
    "def replace_contractions(text):\n",
    "    \"\"\"Replace contractions in string of text\"\"\"\n",
    "    return contractions.fix(text)\n",
    "\n",
    "tweets2[\"text\"] = tweets2[\"text\"].apply(lambda x: replace_contractions(x))\n",
    "tweets2.head(10)"
   ]
  },
  {
   "cell_type": "code",
   "execution_count": 65,
   "metadata": {
    "colab": {
     "base_uri": "https://localhost:8080/",
     "height": 363
    },
    "id": "331-46IEGyta",
    "outputId": "beadb84a-9e36-4888-839a-9f4c9ce269fe"
   },
   "outputs": [
    {
     "data": {
      "text/html": [
       "<div>\n",
       "<style scoped>\n",
       "    .dataframe tbody tr th:only-of-type {\n",
       "        vertical-align: middle;\n",
       "    }\n",
       "\n",
       "    .dataframe tbody tr th {\n",
       "        vertical-align: top;\n",
       "    }\n",
       "\n",
       "    .dataframe thead th {\n",
       "        text-align: right;\n",
       "    }\n",
       "</style>\n",
       "<table border=\"1\" class=\"dataframe\">\n",
       "  <thead>\n",
       "    <tr style=\"text-align: right;\">\n",
       "      <th></th>\n",
       "      <th>airline_sentiment</th>\n",
       "      <th>text</th>\n",
       "    </tr>\n",
       "  </thead>\n",
       "  <tbody>\n",
       "    <tr>\n",
       "      <th>0</th>\n",
       "      <td>1</td>\n",
       "      <td>@VirginAmerica What @dhepburn said.</td>\n",
       "    </tr>\n",
       "    <tr>\n",
       "      <th>1</th>\n",
       "      <td>2</td>\n",
       "      <td>@VirginAmerica plus you have added commercials to the experience... tacky.</td>\n",
       "    </tr>\n",
       "    <tr>\n",
       "      <th>2</th>\n",
       "      <td>1</td>\n",
       "      <td>@VirginAmerica I did not today... Must mean I need to take another trip!</td>\n",
       "    </tr>\n",
       "    <tr>\n",
       "      <th>3</th>\n",
       "      <td>0</td>\n",
       "      <td>@VirginAmerica it is really aggressive to blast obnoxious \"entertainment\" in your guests' faces &amp; they have little recourse</td>\n",
       "    </tr>\n",
       "    <tr>\n",
       "      <th>4</th>\n",
       "      <td>0</td>\n",
       "      <td>@VirginAmerica and it is a really big bad thing about it</td>\n",
       "    </tr>\n",
       "    <tr>\n",
       "      <th>5</th>\n",
       "      <td>0</td>\n",
       "      <td>@VirginAmerica seriously would pay $ a flight for seats that did not have this playing.\\nit is really the only bad thing about flying VA</td>\n",
       "    </tr>\n",
       "    <tr>\n",
       "      <th>6</th>\n",
       "      <td>2</td>\n",
       "      <td>@VirginAmerica yes, nearly every time I fly VX this “ear worm” will not go away :)</td>\n",
       "    </tr>\n",
       "    <tr>\n",
       "      <th>7</th>\n",
       "      <td>1</td>\n",
       "      <td>@VirginAmerica Really missed a prime opportunity for Men Without Hats parody, there. https://t.co/mWpGgrEZP</td>\n",
       "    </tr>\n",
       "    <tr>\n",
       "      <th>8</th>\n",
       "      <td>2</td>\n",
       "      <td>@virginamerica Well, I did not…but NOW I DO! :-D</td>\n",
       "    </tr>\n",
       "    <tr>\n",
       "      <th>9</th>\n",
       "      <td>2</td>\n",
       "      <td>@VirginAmerica it was amazing, and arrived an hour early. you are too good to me.</td>\n",
       "    </tr>\n",
       "  </tbody>\n",
       "</table>\n",
       "</div>"
      ],
      "text/plain": [
       "   airline_sentiment                                                                                                                                      text\n",
       "0                  1                                                                                                       @VirginAmerica What @dhepburn said.\n",
       "1                  2                                                                @VirginAmerica plus you have added commercials to the experience... tacky.\n",
       "2                  1                                                                  @VirginAmerica I did not today... Must mean I need to take another trip!\n",
       "3                  0               @VirginAmerica it is really aggressive to blast obnoxious \"entertainment\" in your guests' faces & they have little recourse\n",
       "4                  0                                                                                  @VirginAmerica and it is a really big bad thing about it\n",
       "5                  0  @VirginAmerica seriously would pay $ a flight for seats that did not have this playing.\\nit is really the only bad thing about flying VA\n",
       "6                  2                                                        @VirginAmerica yes, nearly every time I fly VX this “ear worm” will not go away :)\n",
       "7                  1                               @VirginAmerica Really missed a prime opportunity for Men Without Hats parody, there. https://t.co/mWpGgrEZP\n",
       "8                  2                                                                                          @virginamerica Well, I did not…but NOW I DO! :-D\n",
       "9                  2                                                         @VirginAmerica it was amazing, and arrived an hour early. you are too good to me."
      ]
     },
     "execution_count": 65,
     "metadata": {
      "tags": []
     },
     "output_type": "execute_result"
    }
   ],
   "source": [
    "## Remove the numbers\n",
    "def remove_numbers(text):\n",
    "  text = re.sub(r'\\d+', '', text)\n",
    "  return text\n",
    "\n",
    "tweets2[\"text\"] = tweets2[\"text\"].apply(lambda x: remove_numbers(x))\n",
    "tweets2.head(10)"
   ]
  },
  {
   "cell_type": "code",
   "execution_count": 66,
   "metadata": {
    "colab": {
     "base_uri": "https://localhost:8080/",
     "height": 206
    },
    "id": "20TGRJpraLwO",
    "outputId": "5f968a2c-7558-4d34-c638-f91fe7454980"
   },
   "outputs": [
    {
     "data": {
      "text/html": [
       "<div>\n",
       "<style scoped>\n",
       "    .dataframe tbody tr th:only-of-type {\n",
       "        vertical-align: middle;\n",
       "    }\n",
       "\n",
       "    .dataframe tbody tr th {\n",
       "        vertical-align: top;\n",
       "    }\n",
       "\n",
       "    .dataframe thead th {\n",
       "        text-align: right;\n",
       "    }\n",
       "</style>\n",
       "<table border=\"1\" class=\"dataframe\">\n",
       "  <thead>\n",
       "    <tr style=\"text-align: right;\">\n",
       "      <th></th>\n",
       "      <th>airline_sentiment</th>\n",
       "      <th>text</th>\n",
       "    </tr>\n",
       "  </thead>\n",
       "  <tbody>\n",
       "    <tr>\n",
       "      <th>0</th>\n",
       "      <td>1</td>\n",
       "      <td>[@, VirginAmerica, What, @, dhepburn, said, .]</td>\n",
       "    </tr>\n",
       "    <tr>\n",
       "      <th>1</th>\n",
       "      <td>2</td>\n",
       "      <td>[@, VirginAmerica, plus, you, have, added, commercials, to, the, experience, ..., tacky, .]</td>\n",
       "    </tr>\n",
       "    <tr>\n",
       "      <th>2</th>\n",
       "      <td>1</td>\n",
       "      <td>[@, VirginAmerica, I, did, not, today, ..., Must, mean, I, need, to, take, another, trip, !]</td>\n",
       "    </tr>\n",
       "    <tr>\n",
       "      <th>3</th>\n",
       "      <td>0</td>\n",
       "      <td>[@, VirginAmerica, it, is, really, aggressive, to, blast, obnoxious, ``, entertainment, '', in, your, guests, ', faces, &amp;, they, have, little, recourse]</td>\n",
       "    </tr>\n",
       "    <tr>\n",
       "      <th>4</th>\n",
       "      <td>0</td>\n",
       "      <td>[@, VirginAmerica, and, it, is, a, really, big, bad, thing, about, it]</td>\n",
       "    </tr>\n",
       "  </tbody>\n",
       "</table>\n",
       "</div>"
      ],
      "text/plain": [
       "   airline_sentiment                                                                                                                                                      text\n",
       "0                  1                                                                                                            [@, VirginAmerica, What, @, dhepburn, said, .]\n",
       "1                  2                                                               [@, VirginAmerica, plus, you, have, added, commercials, to, the, experience, ..., tacky, .]\n",
       "2                  1                                                              [@, VirginAmerica, I, did, not, today, ..., Must, mean, I, need, to, take, another, trip, !]\n",
       "3                  0  [@, VirginAmerica, it, is, really, aggressive, to, blast, obnoxious, ``, entertainment, '', in, your, guests, ', faces, &, they, have, little, recourse]\n",
       "4                  0                                                                                    [@, VirginAmerica, and, it, is, a, really, big, bad, thing, about, it]"
      ]
     },
     "execution_count": 66,
     "metadata": {
      "tags": []
     },
     "output_type": "execute_result"
    }
   ],
   "source": [
    "### Tokenization\n",
    "tweets2[\"text\"] = tweets2[\"text\"].apply(lambda row: nltk.word_tokenize(row)) # Tokenization of data\n",
    "tweets2.head()"
   ]
  },
  {
   "cell_type": "code",
   "execution_count": 67,
   "metadata": {
    "colab": {
     "base_uri": "https://localhost:8080/",
     "height": 363
    },
    "id": "Gc8axuMBIoQc",
    "outputId": "c41b25ce-77e5-4e7c-c72c-12dcf73a1e34"
   },
   "outputs": [
    {
     "data": {
      "text/html": [
       "<div>\n",
       "<style scoped>\n",
       "    .dataframe tbody tr th:only-of-type {\n",
       "        vertical-align: middle;\n",
       "    }\n",
       "\n",
       "    .dataframe tbody tr th {\n",
       "        vertical-align: top;\n",
       "    }\n",
       "\n",
       "    .dataframe thead th {\n",
       "        text-align: right;\n",
       "    }\n",
       "</style>\n",
       "<table border=\"1\" class=\"dataframe\">\n",
       "  <thead>\n",
       "    <tr style=\"text-align: right;\">\n",
       "      <th></th>\n",
       "      <th>airline_sentiment</th>\n",
       "      <th>text</th>\n",
       "    </tr>\n",
       "  </thead>\n",
       "  <tbody>\n",
       "    <tr>\n",
       "      <th>0</th>\n",
       "      <td>1</td>\n",
       "      <td>[@, VirginAmerica, What, @, dhepburn, said, .]</td>\n",
       "    </tr>\n",
       "    <tr>\n",
       "      <th>1</th>\n",
       "      <td>2</td>\n",
       "      <td>[@, VirginAmerica, plus, you, have, added, commercials, to, the, experience, ..., tacky, .]</td>\n",
       "    </tr>\n",
       "    <tr>\n",
       "      <th>2</th>\n",
       "      <td>1</td>\n",
       "      <td>[@, VirginAmerica, I, did, not, today, ..., Must, mean, I, need, to, take, another, trip, !]</td>\n",
       "    </tr>\n",
       "    <tr>\n",
       "      <th>3</th>\n",
       "      <td>0</td>\n",
       "      <td>[@, VirginAmerica, it, is, really, aggressive, to, blast, obnoxious, ``, entertainment, '', in, your, guests, ', faces, &amp;, they, have, little, recourse]</td>\n",
       "    </tr>\n",
       "    <tr>\n",
       "      <th>4</th>\n",
       "      <td>0</td>\n",
       "      <td>[@, VirginAmerica, and, it, is, a, really, big, bad, thing, about, it]</td>\n",
       "    </tr>\n",
       "    <tr>\n",
       "      <th>5</th>\n",
       "      <td>0</td>\n",
       "      <td>[@, VirginAmerica, seriously, would, pay, $, a, flight, for, seats, that, did, not, have, this, playing, ., it, is, really, the, only, bad, thing, about, flying, VA]</td>\n",
       "    </tr>\n",
       "    <tr>\n",
       "      <th>6</th>\n",
       "      <td>2</td>\n",
       "      <td>[@, VirginAmerica, yes, ,, nearly, every, time, I, fly, VX, this, “, ear, worm, ”, will, not, go, away, :, )]</td>\n",
       "    </tr>\n",
       "    <tr>\n",
       "      <th>7</th>\n",
       "      <td>1</td>\n",
       "      <td>[@, VirginAmerica, Really, missed, a, prime, opportunity, for, Men, Without, Hats, parody, ,, there, ., https, :, //t.co/mWpGgrEZP]</td>\n",
       "    </tr>\n",
       "    <tr>\n",
       "      <th>8</th>\n",
       "      <td>2</td>\n",
       "      <td>[@, virginamerica, Well, ,, I, did, not…but, NOW, I, DO, !, :, -D]</td>\n",
       "    </tr>\n",
       "    <tr>\n",
       "      <th>9</th>\n",
       "      <td>2</td>\n",
       "      <td>[@, VirginAmerica, it, was, amazing, ,, and, arrived, an, hour, early, ., you, are, too, good, to, me, .]</td>\n",
       "    </tr>\n",
       "  </tbody>\n",
       "</table>\n",
       "</div>"
      ],
      "text/plain": [
       "   airline_sentiment                                                                                                                                                                   text\n",
       "0                  1                                                                                                                         [@, VirginAmerica, What, @, dhepburn, said, .]\n",
       "1                  2                                                                            [@, VirginAmerica, plus, you, have, added, commercials, to, the, experience, ..., tacky, .]\n",
       "2                  1                                                                           [@, VirginAmerica, I, did, not, today, ..., Must, mean, I, need, to, take, another, trip, !]\n",
       "3                  0               [@, VirginAmerica, it, is, really, aggressive, to, blast, obnoxious, ``, entertainment, '', in, your, guests, ', faces, &, they, have, little, recourse]\n",
       "4                  0                                                                                                 [@, VirginAmerica, and, it, is, a, really, big, bad, thing, about, it]\n",
       "5                  0  [@, VirginAmerica, seriously, would, pay, $, a, flight, for, seats, that, did, not, have, this, playing, ., it, is, really, the, only, bad, thing, about, flying, VA]\n",
       "6                  2                                                          [@, VirginAmerica, yes, ,, nearly, every, time, I, fly, VX, this, “, ear, worm, ”, will, not, go, away, :, )]\n",
       "7                  1                                    [@, VirginAmerica, Really, missed, a, prime, opportunity, for, Men, Without, Hats, parody, ,, there, ., https, :, //t.co/mWpGgrEZP]\n",
       "8                  2                                                                                                     [@, virginamerica, Well, ,, I, did, not…but, NOW, I, DO, !, :, -D]\n",
       "9                  2                                                              [@, VirginAmerica, it, was, amazing, ,, and, arrived, an, hour, early, ., you, are, too, good, to, me, .]"
      ]
     },
     "execution_count": 67,
     "metadata": {
      "tags": []
     },
     "output_type": "execute_result"
    }
   ],
   "source": [
    "tweets2.head(10)"
   ]
  },
  {
   "cell_type": "code",
   "execution_count": 68,
   "metadata": {
    "id": "TpK7_VJRHx6N"
   },
   "outputs": [],
   "source": [
    "# Functions for removing Special Chars, Punctuations, Converting to lower\n",
    "# Removing stop words and Lemmatizing\n",
    "\n",
    "lemmatizer = WordNetLemmatizer()\n",
    "\n",
    "def rem_non_ascii(words):\n",
    "    new_words = []\n",
    "    for word in words:\n",
    "        new_word = unicodedata.normalize('NFKD', word).encode('ascii', 'ignore').decode('utf-8', 'ignore')\n",
    "        new_words.append(new_word)\n",
    "    return new_words\n",
    "\n",
    "def to_lower(words):\n",
    "    new_words = []\n",
    "    for word in words:\n",
    "        new_word = word.lower()\n",
    "        new_words.append(new_word)\n",
    "    return new_words\n",
    "\n",
    "def rem_punctuation(words):\n",
    "    new_words = []\n",
    "    for word in words:\n",
    "        new_word = re.sub(r'[^\\w\\s]', '', word)\n",
    "        if new_word != '':\n",
    "            new_words.append(new_word)\n",
    "    return new_words\n",
    "\n",
    "def rem_stopwords(words):\n",
    "    new_words = []\n",
    "    for word in words:\n",
    "        if word not in stopwords:\n",
    "            new_words.append(word)\n",
    "    return new_words\n",
    "\n",
    "def lemmatize(words):\n",
    "    new_words = []\n",
    "    for word in words:\n",
    "      new_words.append(lemmatizer.lemmatize(word, pos='v'))\n",
    "    return new_words"
   ]
  },
  {
   "cell_type": "code",
   "execution_count": 69,
   "metadata": {
    "colab": {
     "base_uri": "https://localhost:8080/",
     "height": 363
    },
    "id": "ticjZKZNI5f9",
    "outputId": "cf459cbc-3b1e-459a-f4a7-4232c3730f51"
   },
   "outputs": [
    {
     "data": {
      "text/html": [
       "<div>\n",
       "<style scoped>\n",
       "    .dataframe tbody tr th:only-of-type {\n",
       "        vertical-align: middle;\n",
       "    }\n",
       "\n",
       "    .dataframe tbody tr th {\n",
       "        vertical-align: top;\n",
       "    }\n",
       "\n",
       "    .dataframe thead th {\n",
       "        text-align: right;\n",
       "    }\n",
       "</style>\n",
       "<table border=\"1\" class=\"dataframe\">\n",
       "  <thead>\n",
       "    <tr style=\"text-align: right;\">\n",
       "      <th></th>\n",
       "      <th>airline_sentiment</th>\n",
       "      <th>text</th>\n",
       "    </tr>\n",
       "  </thead>\n",
       "  <tbody>\n",
       "    <tr>\n",
       "      <th>0</th>\n",
       "      <td>1</td>\n",
       "      <td>virginamerica dhepburn say</td>\n",
       "    </tr>\n",
       "    <tr>\n",
       "      <th>1</th>\n",
       "      <td>2</td>\n",
       "      <td>virginamerica plus add commercials experience tacky</td>\n",
       "    </tr>\n",
       "    <tr>\n",
       "      <th>2</th>\n",
       "      <td>1</td>\n",
       "      <td>virginamerica not today mean take another trip</td>\n",
       "    </tr>\n",
       "    <tr>\n",
       "      <th>3</th>\n",
       "      <td>0</td>\n",
       "      <td>virginamerica really aggressive blast obnoxious entertainment guests face little recourse</td>\n",
       "    </tr>\n",
       "    <tr>\n",
       "      <th>4</th>\n",
       "      <td>0</td>\n",
       "      <td>virginamerica really big bad thing</td>\n",
       "    </tr>\n",
       "    <tr>\n",
       "      <th>5</th>\n",
       "      <td>0</td>\n",
       "      <td>virginamerica seriously would pay flight seat not play really bad thing fly va</td>\n",
       "    </tr>\n",
       "    <tr>\n",
       "      <th>6</th>\n",
       "      <td>2</td>\n",
       "      <td>virginamerica yes nearly every time fly vx ear worm not go away</td>\n",
       "    </tr>\n",
       "    <tr>\n",
       "      <th>7</th>\n",
       "      <td>1</td>\n",
       "      <td>virginamerica really miss prime opportunity men without hat parody https tcomwpggrezp</td>\n",
       "    </tr>\n",
       "    <tr>\n",
       "      <th>8</th>\n",
       "      <td>2</td>\n",
       "      <td>virginamerica well notbut</td>\n",
       "    </tr>\n",
       "    <tr>\n",
       "      <th>9</th>\n",
       "      <td>2</td>\n",
       "      <td>virginamerica amaze arrive hour early good</td>\n",
       "    </tr>\n",
       "  </tbody>\n",
       "</table>\n",
       "</div>"
      ],
      "text/plain": [
       "   airline_sentiment                                                                                       text\n",
       "0                  1                                                                 virginamerica dhepburn say\n",
       "1                  2                                        virginamerica plus add commercials experience tacky\n",
       "2                  1                                             virginamerica not today mean take another trip\n",
       "3                  0  virginamerica really aggressive blast obnoxious entertainment guests face little recourse\n",
       "4                  0                                                         virginamerica really big bad thing\n",
       "5                  0             virginamerica seriously would pay flight seat not play really bad thing fly va\n",
       "6                  2                            virginamerica yes nearly every time fly vx ear worm not go away\n",
       "7                  1      virginamerica really miss prime opportunity men without hat parody https tcomwpggrezp\n",
       "8                  2                                                                  virginamerica well notbut\n",
       "9                  2                                                 virginamerica amaze arrive hour early good"
      ]
     },
     "execution_count": 69,
     "metadata": {
      "tags": []
     },
     "output_type": "execute_result"
    }
   ],
   "source": [
    "### Applying functions to dataframe for removing Special Chars, Punctuations, Converting to lower\n",
    "### Removing stop words and Lemmatizing\n",
    "### Joining words to string in DataFrame\n",
    "def text_pre_process(words):\n",
    "    words = rem_non_ascii(words)\n",
    "    words = to_lower(words)\n",
    "    words = rem_punctuation(words)\n",
    "    words = rem_stopwords(words)\n",
    "    words = lemmatize(words)\n",
    "    return ' '.join(words)\n",
    "\n",
    "tweets2[\"text\"] = tweets2[\"text\"].apply(lambda row: text_pre_process(row))\n",
    "### Printing 10 rows after PreProcessing\n",
    "tweets2.head(10)"
   ]
  },
  {
   "cell_type": "code",
   "execution_count": 70,
   "metadata": {
    "id": "O0y9dSIpMmtV"
   },
   "outputs": [],
   "source": [
    "#tweets2[\"mod_text\"]=\"\""
   ]
  },
  {
   "cell_type": "code",
   "execution_count": 71,
   "metadata": {
    "id": "dE_q4Zw-UvHl"
   },
   "outputs": [],
   "source": [
    "# Applying Preprocessing to the column and creating a new column with the modified text\n",
    "#num_reviews = tweets2[\"text\"].size\n",
    "#print(num_reviews)\n",
    "#for i in range(0,num_reviews):\n",
    "#  tweets2[\"mod_text\"][i]=text_preprocess(tweets2[\"text\"][i])\n",
    "  #print(tweets2[\"mod_text\"][i])"
   ]
  },
  {
   "cell_type": "markdown",
   "metadata": {
    "id": "7mfJGfcCTD88"
   },
   "source": [
    "### Vectorization"
   ]
  },
  {
   "cell_type": "code",
   "execution_count": 72,
   "metadata": {
    "id": "pY68j09jTB-D"
   },
   "outputs": [],
   "source": [
    "# CountVectorization \n",
    "vectorizer = CountVectorizer(analyzer = \"word\", tokenizer = None,preprocessor = None, stop_words = None, max_features = 1000) #10000\n",
    "train_data_features = vectorizer.fit_transform(tweets2[\"text\"])\n",
    "train_data_features = train_data_features.toarray()\n"
   ]
  },
  {
   "cell_type": "code",
   "execution_count": 73,
   "metadata": {
    "colab": {
     "base_uri": "https://localhost:8080/"
    },
    "id": "QadLXXSLYWQz",
    "outputId": "4fac2187-902b-45ac-a127-cbe3255e7cd2"
   },
   "outputs": [
    {
     "name": "stdout",
     "output_type": "stream",
     "text": [
      "(14640, 1000)\n"
     ]
    }
   ],
   "source": [
    "print (train_data_features.shape)"
   ]
  },
  {
   "cell_type": "code",
   "execution_count": 74,
   "metadata": {
    "colab": {
     "base_uri": "https://localhost:8080/"
    },
    "id": "1WVeV-rpYZlW",
    "outputId": "77c30798-5515-41cb-d60e-9fa09961d98d"
   },
   "outputs": [
    {
     "name": "stdout",
     "output_type": "stream",
     "text": [
      "['aa', 'able', 'absolute', 'absolutely', 'accept', 'acceptable', 'access', 'accommodate', 'account', 'act', 'actual', 'actually', 'add', 'additional', 'address', 'advise', 'advisory', 'afternoon', 'agent', 'agents', 'ago', 'ahead', 'air', 'aircraft', 'airline', 'airlines', 'airplane', 'airport', 'airports', 'airways', 'alert', 'allow', 'almost', 'alone', 'along', 'already', 'also', 'always', 'amaze', 'america', 'american', 'americanair', 'americanairlines', 'amount', 'angry', 'announce', 'annoy', 'another', 'answer', 'anymore', 'anyone', 'anything', 'anyway', 'anywhere', 'apologies', 'apologize', 'apology', 'app', 'apparently', 'appear', 'appease', 'apply', 'appreciate', 'area', 'around', 'arrival', 'arrive', 'ask', 'assign', 'assist', 'assistance', 'atl', 'atlanta', 'attempt', 'attendant', 'attendants', 'attitude', 'austin', 'auto', 'automate', 'available', 'avgeek', 'avoid', 'award', 'away', 'awesome', 'awful', 'baby', 'back', 'bad', 'badcustomerservice', 'badservice', 'bag', 'baggage', 'bank', 'base', 'battle', 'bc', 'become', 'begin', 'behind', 'believe', 'best', 'better', 'beyond', 'big', 'bin', 'bird', 'birthday', 'bite', 'blame', 'blue', 'bna', 'board', 'book', 'bos', 'boston', 'bother', 'break', 'bring', 'bs', 'btw', 'bump', 'bus', 'business', 'busy', 'buy', 'bwi', 'cabin', 'call', 'callback', 'cancel', 'captain', 'car', 'card', 'care', 'carry', 'carryon', 'case', 'catch', 'cater', 'cause', 'cc', 'center', 'ceo', 'chairman', 'chance', 'change', 'charge', 'charlotte', 'cheap', 'check', 'checkin', 'chicago', 'child', 'children', 'choice', 'choose', 'city', 'claim', 'class', 'clean', 'clear', 'clearly', 'close', 'clothe', 'clt', 'club', 'coach', 'code', 'coffee', 'cold', 'columbus', 'come', 'communication', 'companion', 'company', 'compensate', 'compensation', 'complain', 'complaint', 'complaints', 'complete', 'completely', 'computer', 'concern', 'condition', 'conf', 'confirm', 'confirmation', 'congrats', 'connect', 'connection', 'connections', 'consider', 'contact', 'continue', 'control', 'cool', 'correct', 'cost', 'count', 'counter', 'country', 'couple', 'course', 'cover', 'crash', 'crazy', 'credit', 'crew', 'cross', 'cs', 'current', 'currently', 'cust', 'customer', 'customers', 'customerservice', 'cut', 'daily', 'dallas', 'damage', 'damn', 'date', 'daughter', 'day', 'days', 'dc', 'dca', 'deal', 'decide', 'definitely', 'deice', 'delay', 'deliver', 'delivery', 'delta', 'den', 'denver', 'deny', 'depart', 'department', 'departure', 'deplane', 'dept', 'deserve', 'desk', 'despite', 'destination', 'destinationdragons', 'detail', 'dfw', 'dfwairport', 'die', 'diego', 'diff', 'difference', 'different', 'direct', 'disappoint', 'disconnect', 'discount', 'disgust', 'dividend', 'dm', 'dmed', 'do', 'dollars', 'domestic', 'door', 'dragons', 'drink', 'drive', 'drop', 'due', 'earlier', 'early', 'earn', 'easy', 'eat', 'either', 'else', 'email', 'emergency', 'employee', 'employees', 'empty', 'end', 'engine', 'enjoy', 'enough', 'enter', 'entertainment', 'entire', 'equipment', 'error', 'especially', 'etc', 'even', 'eventually', 'ever', 'every', 'everyone', 'everything', 'ewr', 'exactly', 'excellent', 'except', 'excite', 'excuse', 'exist', 'exit', 'expect', 'expensive', 'experience', 'expire', 'explain', 'explanation', 'extend', 'extra', 'extremely', 'face', 'fact', 'fail', 'failure', 'fair', 'fall', 'family', 'fan', 'fantastic', 'far', 'fare', 'fault', 'favorite', 'feb', 'february', 'fee', 'feedback', 'feel', 'figure', 'file', 'fill', 'final', 'finally', 'find', 'fine', 'finger', 'first', 'fit', 'fix', 'fl', 'fleek', 'fleet', 'flight', 'flightd', 'flightlation', 'flightlations', 'flightled', 'flightling', 'flightr', 'fll', 'flt', 'fly', 'flyer', 'flyers', 'folks', 'follow', 'food', 'force', 'forever', 'forget', 'form', 'forward', 'four', 'free', 'freeze', 'frequent', 'friday', 'friend', 'friendly', 'friends', 'front', 'frustrate', 'fuck', 'full', 'fun', 'funeral', 'funny', 'future', 'fyi', 'game', 'gate', 'get', 'give', 'glad', 'go', 'god', 'gold', 'good', 'great', 'grind', 'group', 'guess', 'guy', 'haha', 'half', 'hand', 'handle', 'hang', 'happen', 'happy', 'hard', 'hate', 'head', 'hear', 'hell', 'hello', 'help', 'helpful', 'hey', 'hi', 'high', 'hire', 'hit', 'hold', 'home', 'honor', 'hop', 'hope', 'hopefully', 'horrible', 'hotel', 'hour', 'hours', 'houston', 'however', 'hr', 'hrs', 'http', 'https', 'huge', 'human', 'husband', 'iad', 'iah', 'ice', 'id', 'idea', 'ignore', 'imagine', 'imaginedragons', 'important', 'impossible', 'impress', 'improve', 'include', 'inconvenience', 'inflight', 'info', 'inform', 'information', 'inside', 'instead', 'interest', 'international', 'internet', 'intl', 'iphone', 'issue', 'item', 'itinerary', 'jet', 'jetblue', 'jfk', 'job', 'joke', 'keep', 'kid', 'kill', 'kind', 'know', 'kudos', 'la', 'lack', 'lady', 'land', 'las', 'last', 'late', 'lax', 'layover', 'lead', 'learn', 'least', 'leave', 'leg', 'less', 'let', 'letter', 'level', 'lga', 'lie', 'life', 'light', 'like', 'likely', 'limit', 'line', 'link', 'list', 'listen', 'literally', 'little', 'live', 'load', 'locate', 'log', 'lol', 'long', 'longer', 'look', 'lose', 'lot', 'lounge', 'love', 'lovely', 'loyal', 'luck', 'luggage', 'mail', 'main', 'maintenance', 'major', 'make', 'man', 'manage', 'many', 'march', 'market', 'match', 'matter', 'may', 'maybe', 'mco', 'meal', 'mean', 'mechanical', 'media', 'meet', 'member', 'members', 'mention', 'merge', 'merger', 'mess', 'message', 'mexico', 'mia', 'miami', 'middle', 'midnight', 'mileage', 'mileageplus', 'miles', 'min', 'mind', 'mine', 'mins', 'minute', 'minutes', 'miss', 'mistake', 'mobile', 'mom', 'monday', 'money', 'month', 'months', 'morning', 'move', 'much', 'multiple', 'music', 'name', 'nashville', 'nd', 'need', 'never', 'neveragain', 'new', 'newark', 'news', 'next', 'nice', 'night', 'nightmare', 'no', 'non', 'none', 'nonstop', 'nope', 'not', 'note', 'nothing', 'notice', 'notification', 'notify', 'number', 'ny', 'nyc', 'offer', 'office', 'oh', 'ok', 'okay', 'old', 'onboard', 'one', 'ones', 'online', 'onto', 'open', 'operate', 'option', 'options', 'ord', 'order', 'original', 'orlando', 'oscars', 'others', 'outside', 'overhead', 'overnight', 'page', 'part', 'partner', 'party', 'pass', 'passbook', 'passenger', 'passengers', 'past', 'pathetic', 'patience', 'patient', 'pay', 'people', 'per', 'person', 'personal', 'philadelphia', 'philly', 'phl', 'phlairport', 'phoenix', 'phone', 'phx', 'pick', 'pilot', 'place', 'plan', 'plane', 'platinum', 'play', 'please', 'plenty', 'pls', 'plus', 'plz', 'pm', 'point', 'policy', 'poor', 'possible', 'post', 'power', 'ppl', 'prefer', 'premier', 'premium', 'pretty', 'price', 'print', 'priority', 'probably', 'problem', 'problems', 'process', 'program', 'promise', 'prompt', 'provide', 'pull', 'purchase', 'push', 'put', 'question', 'quick', 'raise', 'rate', 'rather', 'rd', 'rdu', 'reach', 'read', 'ready', 'real', 'realize', 'really', 'reason', 'rebook', 'rebooked', 'receipt', 'receive', 'record', 'redeem', 'reflight', 'refund', 'refuse', 'regard', 'reimburse', 'relations', 'remember', 'rent', 'rental', 'rep', 'reply', 'report', 'representative', 'reps', 'request', 'require', 'reschedule', 'reservation', 'reservations', 'resolve', 'respond', 'response', 'result', 'return', 'reward', 'ride', 'ridiculous', 'right', 'rock', 'room', 'round', 'rout', 'route', 'row', 'rt', 'rude', 'ruin', 'rule', 'run', 'runway', 'sad', 'safe', 'safety', 'san', 'saturday', 'save', 'saw', 'say', 'schedule', 'screen', 'screw', 'seat', 'seattle', 'second', 'security', 'see', 'seem', 'select', 'sell', 'send', 'sense', 'serious', 'seriously', 'serve', 'service', 'set', 'several', 'sfo', 'share', 'shit', 'short', 'show', 'sick', 'sign', 'since', 'single', 'sister', 'sit', 'site', 'situation', 'sky', 'sleep', 'slow', 'small', 'smh', 'snack', 'snow', 'social', 'solution', 'someone', 'something', 'son', 'soon', 'sorry', 'sort', 'sound', 'south', 'southwest', 'southwestair', 'space', 'speak', 'special', 'spend', 'st', 'staff', 'stand', 'standby', 'start', 'state', 'status', 'stay', 'steal', 'step', 'stick', 'still', 'stop', 'storm', 'story', 'strand', 'street', 'stuff', 'submit', 'suck', 'suggest', 'suitcase', 'sunday', 'super', 'supervisor', 'support', 'suppose', 'sure', 'surprise', 'svc', 'sw', 'swa', 'switch', 'system', 'systems', 'tag', 'take', 'takeoff', 'talk', 'tarmac', 'team', 'tell', 'terminal', 'terrible', 'th', 'thank', 'thing', 'things', 'think', 'tho', 'though', 'three', 'thru', 'thx', 'ticket', 'till', 'time', 'tire', 'tix', 'tmrw', 'today', 'together', 'tomorrow', 'tonight', 'top', 'total', 'totally', 'touch', 'track', 'train', 'transfer', 'travel', 'traveler', 'travelers', 'treat', 'trip', 'trouble', 'true', 'trueblue', 'trust', 'try', 'tsa', 'tuesday', 'turn', 'tv', 'tweet', 'twice', 'twitter', 'two', 'ua', 'ugh', 'uk', 'unable', 'unacceptable', 'unbelievable', 'understand', 'unfortunately', 'unhappy', 'unhelpful', 'unite', 'unitedairlines', 'update', 'upgrade', 'upset', 'ur', 'us', 'usa', 'usair', 'usairways', 'usairwaysfail', 'use', 'useless', 'usually', 'vacation', 'vegas', 'via', 'video', 'view', 'virgin', 'virginamerica', 'visit', 'volume', 'voucher', 'vouchers', 'wait', 'waive', 'walk', 'wall', 'want', 'warm', 'waste', 'watch', 'water', 'way', 'ways', 'weather', 'web', 'website', 'wed', 'wednesday', 'week', 'weekend', 'weeks', 'welcome', 'well', 'whole', 'wife', 'wifi', 'will', 'win', 'window', 'winter', 'wish', 'without', 'wof', 'wonder', 'wonderful', 'word', 'work', 'world', 'worry', 'worse', 'worst', 'worth', 'would', 'wow', 'write', 'wrong', 'wtf', 'yeah', 'year', 'years', 'yep', 'yes', 'yesterday', 'yet', 'yo', 'yr', 'zero']\n"
     ]
    }
   ],
   "source": [
    "vocab = vectorizer.get_feature_names()\n",
    "print (vocab)"
   ]
  },
  {
   "cell_type": "code",
   "execution_count": 75,
   "metadata": {
    "id": "5k3JBx97Nljs"
   },
   "outputs": [],
   "source": [
    "# Split data into training and testing set.\n",
    "\n",
    "X_train, X_test, y_train, y_test = train_test_split(train_data_features, tweets2[\"airline_sentiment\"], test_size=0.3, random_state=42)"
   ]
  },
  {
   "cell_type": "code",
   "execution_count": 76,
   "metadata": {
    "colab": {
     "base_uri": "https://localhost:8080/"
    },
    "id": "TebUqSgKZ3si",
    "outputId": "f915b9d7-d9ee-4094-eff9-0899865b391d"
   },
   "outputs": [
    {
     "name": "stdout",
     "output_type": "stream",
     "text": [
      "Training the random forest...\n",
      "building tree 1 of 100\n",
      "building tree 2 of 100\n",
      "building tree 3 of 100\n",
      "building tree 4 of 100\n",
      "building tree 5 of 100\n",
      "building tree 6 of 100\n",
      "building tree 7 of 100\n",
      "building tree 8 of 100\n"
     ]
    },
    {
     "name": "stderr",
     "output_type": "stream",
     "text": [
      "[Parallel(n_jobs=8)]: Using backend ThreadingBackend with 8 concurrent workers.\n"
     ]
    },
    {
     "name": "stdout",
     "output_type": "stream",
     "text": [
      "building tree 9 of 100\n",
      "building tree 10 of 100\n",
      "building tree 11 of 100\n",
      "building tree 12 of 100\n",
      "building tree 13 of 100\n",
      "building tree 14 of 100\n",
      "building tree 15 of 100\n",
      "building tree 16 of 100\n",
      "building tree 17 of 100\n",
      "building tree 18 of 100\n",
      "building tree 19 of 100\n",
      "building tree 20 of 100\n",
      "building tree 21 of 100\n",
      "building tree 22 of 100\n",
      "building tree 23 of 100\n",
      "building tree 24 of 100\n",
      "building tree 25 of 100\n",
      "building tree 26 of 100\n",
      "building tree 27 of 100\n",
      "building tree 28 of 100\n",
      "building tree 29 of 100building tree 30 of 100\n",
      "\n",
      "building tree 31 of 100\n",
      "building tree 32 of 100\n"
     ]
    },
    {
     "name": "stderr",
     "output_type": "stream",
     "text": [
      "[Parallel(n_jobs=8)]: Done  25 tasks      | elapsed:    2.3s\n"
     ]
    },
    {
     "name": "stdout",
     "output_type": "stream",
     "text": [
      "building tree 33 of 100\n",
      "building tree 34 of 100\n",
      "building tree 35 of 100\n",
      "building tree 36 of 100\n",
      "building tree 37 of 100building tree 38 of 100\n",
      "\n",
      "building tree 39 of 100\n",
      "building tree 40 of 100\n",
      "building tree 41 of 100\n",
      "building tree 42 of 100\n",
      "building tree 43 of 100\n",
      "building tree 44 of 100\n",
      "building tree 45 of 100building tree 46 of 100\n",
      "\n",
      "building tree 47 of 100\n",
      "building tree 48 of 100\n",
      "building tree 49 of 100\n",
      "building tree 50 of 100\n",
      "building tree 51 of 100\n",
      "building tree 52 of 100\n",
      "building tree 53 of 100\n",
      "building tree 54 of 100\n",
      "building tree 55 of 100\n",
      "building tree 56 of 100\n",
      "building tree 57 of 100\n",
      "building tree 58 of 100\n",
      "building tree 59 of 100\n",
      "building tree 60 of 100\n",
      "building tree 61 of 100building tree 62 of 100\n",
      "\n",
      "building tree 63 of 100\n",
      "building tree 64 of 100\n",
      "building tree 65 of 100\n",
      "building tree 66 of 100\n",
      "building tree 67 of 100\n",
      "building tree 68 of 100\n",
      "building tree 69 of 100\n",
      "building tree 70 of 100\n",
      "building tree 71 of 100building tree 72 of 100\n",
      "\n",
      "building tree 73 of 100\n",
      "building tree 74 of 100\n",
      "building tree 75 of 100\n",
      "building tree 76 of 100building tree 77 of 100\n",
      "\n",
      "building tree 78 of 100\n",
      "building tree 79 of 100\n",
      "building tree 80 of 100\n",
      "building tree 81 of 100\n",
      "building tree 82 of 100\n",
      "building tree 83 of 100\n",
      "building tree 84 of 100\n",
      "building tree 85 of 100\n",
      "building tree 86 of 100\n",
      "building tree 87 of 100\n",
      "building tree 88 of 100\n",
      "building tree 89 of 100\n",
      "building tree 90 of 100\n",
      "building tree 91 of 100\n",
      "building tree 92 of 100\n",
      "building tree 93 of 100\n",
      "building tree 94 of 100\n",
      "building tree 95 of 100\n",
      "building tree 96 of 100\n",
      "building tree 97 of 100\n",
      "building tree 98 of 100\n",
      "building tree 99 of 100\n",
      "building tree 100 of 100\n",
      "RandomForestClassifier(bootstrap=True, ccp_alpha=0.0, class_weight=None,\n",
      "                       criterion='gini', max_depth=None, max_features='auto',\n",
      "                       max_leaf_nodes=None, max_samples=None,\n",
      "                       min_impurity_decrease=0.0, min_impurity_split=None,\n",
      "                       min_samples_leaf=1, min_samples_split=2,\n",
      "                       min_weight_fraction_leaf=0.0, n_estimators=100, n_jobs=8,\n",
      "                       oob_score=False, random_state=None, verbose=2,\n",
      "                       warm_start=False)\n"
     ]
    },
    {
     "name": "stderr",
     "output_type": "stream",
     "text": [
      "[Parallel(n_jobs=8)]: Done 100 out of 100 | elapsed:    7.4s finished\n",
      "[Parallel(n_jobs=8)]: Using backend LokyBackend with 8 concurrent workers.\n",
      "[Parallel(n_jobs=8)]: Done  25 tasks      | elapsed:    8.6s\n",
      "[Parallel(n_jobs=8)]: Done 100 out of 100 | elapsed:   22.1s finished\n",
      "[Parallel(n_jobs=8)]: Using backend ThreadingBackend with 8 concurrent workers.\n",
      "[Parallel(n_jobs=8)]: Done  25 tasks      | elapsed:    0.0s\n",
      "[Parallel(n_jobs=8)]: Done 100 out of 100 | elapsed:    0.1s finished\n",
      "[Parallel(n_jobs=8)]: Using backend LokyBackend with 8 concurrent workers.\n",
      "[Parallel(n_jobs=8)]: Done  25 tasks      | elapsed:    5.0s\n",
      "[Parallel(n_jobs=8)]: Done 100 out of 100 | elapsed:   17.5s finished\n",
      "[Parallel(n_jobs=8)]: Using backend ThreadingBackend with 8 concurrent workers.\n",
      "[Parallel(n_jobs=8)]: Done  25 tasks      | elapsed:    0.0s\n",
      "[Parallel(n_jobs=8)]: Done 100 out of 100 | elapsed:    0.1s finished\n",
      "[Parallel(n_jobs=8)]: Using backend LokyBackend with 8 concurrent workers.\n",
      "[Parallel(n_jobs=8)]: Done  25 tasks      | elapsed:    5.3s\n",
      "[Parallel(n_jobs=8)]: Done 100 out of 100 | elapsed:   18.4s finished\n",
      "[Parallel(n_jobs=8)]: Using backend ThreadingBackend with 8 concurrent workers.\n",
      "[Parallel(n_jobs=8)]: Done  25 tasks      | elapsed:    0.0s\n",
      "[Parallel(n_jobs=8)]: Done 100 out of 100 | elapsed:    0.1s finished\n",
      "[Parallel(n_jobs=8)]: Using backend LokyBackend with 8 concurrent workers.\n",
      "[Parallel(n_jobs=8)]: Done  25 tasks      | elapsed:    5.3s\n",
      "[Parallel(n_jobs=8)]: Done 100 out of 100 | elapsed:   18.8s finished\n",
      "[Parallel(n_jobs=8)]: Using backend ThreadingBackend with 8 concurrent workers.\n",
      "[Parallel(n_jobs=8)]: Done  25 tasks      | elapsed:    0.0s\n",
      "[Parallel(n_jobs=8)]: Done 100 out of 100 | elapsed:    0.1s finished\n",
      "[Parallel(n_jobs=8)]: Using backend LokyBackend with 8 concurrent workers.\n",
      "[Parallel(n_jobs=8)]: Done  25 tasks      | elapsed:    5.3s\n",
      "[Parallel(n_jobs=8)]: Done 100 out of 100 | elapsed:   18.8s finished\n",
      "[Parallel(n_jobs=8)]: Using backend ThreadingBackend with 8 concurrent workers.\n",
      "[Parallel(n_jobs=8)]: Done  25 tasks      | elapsed:    0.0s\n",
      "[Parallel(n_jobs=8)]: Done 100 out of 100 | elapsed:    0.1s finished\n",
      "[Parallel(n_jobs=8)]: Using backend LokyBackend with 8 concurrent workers.\n",
      "[Parallel(n_jobs=8)]: Done  25 tasks      | elapsed:    5.5s\n",
      "[Parallel(n_jobs=8)]: Done 100 out of 100 | elapsed:   19.3s finished\n",
      "[Parallel(n_jobs=8)]: Using backend ThreadingBackend with 8 concurrent workers.\n",
      "[Parallel(n_jobs=8)]: Done  25 tasks      | elapsed:    0.0s\n",
      "[Parallel(n_jobs=8)]: Done 100 out of 100 | elapsed:    0.1s finished\n",
      "[Parallel(n_jobs=8)]: Using backend LokyBackend with 8 concurrent workers.\n",
      "[Parallel(n_jobs=8)]: Done  25 tasks      | elapsed:    5.8s\n",
      "[Parallel(n_jobs=8)]: Done 100 out of 100 | elapsed:   20.2s finished\n",
      "[Parallel(n_jobs=8)]: Using backend ThreadingBackend with 8 concurrent workers.\n",
      "[Parallel(n_jobs=8)]: Done  25 tasks      | elapsed:    0.0s\n",
      "[Parallel(n_jobs=8)]: Done 100 out of 100 | elapsed:    0.1s finished\n",
      "[Parallel(n_jobs=8)]: Using backend LokyBackend with 8 concurrent workers.\n",
      "[Parallel(n_jobs=8)]: Done  25 tasks      | elapsed:    5.4s\n",
      "[Parallel(n_jobs=8)]: Done 100 out of 100 | elapsed:   18.2s finished\n",
      "[Parallel(n_jobs=8)]: Using backend ThreadingBackend with 8 concurrent workers.\n",
      "[Parallel(n_jobs=8)]: Done  25 tasks      | elapsed:    0.0s\n",
      "[Parallel(n_jobs=8)]: Done 100 out of 100 | elapsed:    0.1s finished\n",
      "[Parallel(n_jobs=8)]: Using backend LokyBackend with 8 concurrent workers.\n",
      "[Parallel(n_jobs=8)]: Done  25 tasks      | elapsed:    4.7s\n",
      "[Parallel(n_jobs=8)]: Done 100 out of 100 | elapsed:   16.9s finished\n",
      "[Parallel(n_jobs=8)]: Using backend ThreadingBackend with 8 concurrent workers.\n",
      "[Parallel(n_jobs=8)]: Done  25 tasks      | elapsed:    0.0s\n",
      "[Parallel(n_jobs=8)]: Done 100 out of 100 | elapsed:    0.1s finished\n",
      "[Parallel(n_jobs=8)]: Using backend LokyBackend with 8 concurrent workers.\n",
      "[Parallel(n_jobs=8)]: Done  25 tasks      | elapsed:    5.3s\n",
      "[Parallel(n_jobs=8)]: Done 100 out of 100 | elapsed:   17.6s finished\n",
      "[Parallel(n_jobs=8)]: Using backend ThreadingBackend with 8 concurrent workers.\n",
      "[Parallel(n_jobs=8)]: Done  25 tasks      | elapsed:    0.0s\n",
      "[Parallel(n_jobs=8)]: Done 100 out of 100 | elapsed:    0.1s finished\n"
     ]
    },
    {
     "name": "stdout",
     "output_type": "stream",
     "text": [
      "0.730327868852459\n"
     ]
    }
   ],
   "source": [
    "\n",
    "# Initialize a Random Forest classifier with 100 trees\n",
    "forest = RandomForestClassifier(verbose=2,n_jobs=8,n_estimators = 100) \n",
    "# Fit the forest to the training set, using the bag of words as \n",
    "# features and the sentiment labels as the response variable\n",
    "#\n",
    "# This may take a few minutes to run\n",
    "print (\"Training the random forest...\")\n",
    "forest = forest.fit(X_train, y_train)\n",
    "# random forest performance through cross vaidation \n",
    "print (forest)\n",
    "print (np.mean(cross_val_score(forest,train_data_features,tweets2[\"airline_sentiment\"],cv=10)))"
   ]
  },
  {
   "cell_type": "code",
   "execution_count": 77,
   "metadata": {
    "colab": {
     "base_uri": "https://localhost:8080/"
    },
    "id": "Imedi3IBOCnd",
    "outputId": "43462f30-2480-4ed1-f4cb-6b4576734e79"
   },
   "outputs": [
    {
     "name": "stderr",
     "output_type": "stream",
     "text": [
      "[Parallel(n_jobs=8)]: Using backend ThreadingBackend with 8 concurrent workers.\n",
      "[Parallel(n_jobs=8)]: Done  25 tasks      | elapsed:    0.1s\n",
      "[Parallel(n_jobs=8)]: Done 100 out of 100 | elapsed:    0.3s finished\n"
     ]
    }
   ],
   "source": [
    "# Predict the result for test data using the model built above.\n",
    "\n",
    "result = forest.predict(X_test)\n",
    "#print(result)"
   ]
  },
  {
   "cell_type": "code",
   "execution_count": 78,
   "metadata": {
    "colab": {
     "base_uri": "https://localhost:8080/",
     "height": 499
    },
    "id": "xYSadEQzOE0F",
    "outputId": "95cf935a-d19c-4b38-a07c-013856490ec9"
   },
   "outputs": [
    {
     "name": "stdout",
     "output_type": "stream",
     "text": [
      "[[2518  220   76]\n",
      " [ 355  455   74]\n",
      " [ 164  115  415]]\n"
     ]
    },
    {
     "data": {
      "text/plain": [
       "<matplotlib.axes._subplots.AxesSubplot at 0x7f820928b2d0>"
      ]
     },
     "execution_count": 78,
     "metadata": {
      "tags": []
     },
     "output_type": "execute_result"
    },
    {
     "data": {
      "image/png": "[encoded data removed]",
      "text/plain": [
       "<Figure size 720x504 with 2 Axes>"
      ]
     },
     "metadata": {
      "needs_background": "light",
      "tags": []
     },
     "output_type": "display_data"
    }
   ],
   "source": [
    "# Printing and Plotting Confusion matrix\n",
    "conf_mat = confusion_matrix(y_test, result)\n",
    "print(conf_mat)\n",
    "\n",
    "df_cm = pd.DataFrame(conf_mat, index = [i for i in \"012\"],\n",
    "                      columns = [i for i in \"012\"])\n",
    "plt.figure(figsize = (10,7))\n",
    "sns.heatmap(df_cm, annot=True, fmt='g')"
   ]
  },
  {
   "cell_type": "code",
   "execution_count": 79,
   "metadata": {
    "colab": {
     "base_uri": "https://localhost:8080/"
    },
    "id": "h3bNbFg4OT50",
    "outputId": "e6686c72-0832-4d7e-9702-2a6d70b19627"
   },
   "outputs": [
    {
     "name": "stdout",
     "output_type": "stream",
     "text": [
      "=== Classification Report ===\n",
      "              precision    recall  f1-score   support\n",
      "\n",
      "           0       0.83      0.89      0.86      2814\n",
      "           1       0.58      0.51      0.54       884\n",
      "           2       0.73      0.60      0.66       694\n",
      "\n",
      "    accuracy                           0.77      4392\n",
      "   macro avg       0.71      0.67      0.69      4392\n",
      "weighted avg       0.76      0.77      0.77      4392\n",
      "\n"
     ]
    }
   ],
   "source": [
    "print(\"=== Classification Report ===\")\n",
    "print(classification_report(y_test, result))"
   ]
  },
  {
   "cell_type": "markdown",
   "metadata": {
    "id": "9irt3tORQw0v"
   },
   "source": [
    "### Using TfidfVectorizer"
   ]
  },
  {
   "cell_type": "code",
   "execution_count": 80,
   "metadata": {
    "id": "W8bX2WYEYzge"
   },
   "outputs": [],
   "source": [
    "# TfidfVectorizer\n",
    "tfid_vectorizer = TfidfVectorizer(max_features = 1000)\n",
    "train_data_tfid_features = tfid_vectorizer.fit_transform(tweets2[\"text\"])\n",
    "train_data_tfid_features = train_data_tfid_features.toarray()"
   ]
  },
  {
   "cell_type": "code",
   "execution_count": 81,
   "metadata": {
    "colab": {
     "base_uri": "https://localhost:8080/"
    },
    "id": "IazOgBW0ZWCR",
    "outputId": "d6953b62-0182-407b-88df-29170a7c3eb5"
   },
   "outputs": [
    {
     "name": "stdout",
     "output_type": "stream",
     "text": [
      "(14640, 1000)\n"
     ]
    }
   ],
   "source": [
    "print (train_data_tfid_features.shape)"
   ]
  },
  {
   "cell_type": "code",
   "execution_count": 82,
   "metadata": {
    "colab": {
     "base_uri": "https://localhost:8080/"
    },
    "id": "-_VlOSN-ZapE",
    "outputId": "c20187bb-f4df-47e0-ee89-9209c32ab854"
   },
   "outputs": [
    {
     "name": "stdout",
     "output_type": "stream",
     "text": [
      "['aa', 'able', 'absolute', 'absolutely', 'accept', 'acceptable', 'access', 'accommodate', 'account', 'act', 'actual', 'actually', 'add', 'additional', 'address', 'advise', 'advisory', 'afternoon', 'agent', 'agents', 'ago', 'ahead', 'air', 'aircraft', 'airline', 'airlines', 'airplane', 'airport', 'airports', 'airways', 'alert', 'allow', 'almost', 'alone', 'along', 'already', 'also', 'always', 'amaze', 'america', 'american', 'americanair', 'americanairlines', 'amount', 'angry', 'announce', 'annoy', 'another', 'answer', 'anymore', 'anyone', 'anything', 'anyway', 'anywhere', 'apologies', 'apologize', 'apology', 'app', 'apparently', 'appear', 'appease', 'apply', 'appreciate', 'area', 'around', 'arrival', 'arrive', 'ask', 'assign', 'assist', 'assistance', 'atl', 'atlanta', 'attempt', 'attendant', 'attendants', 'attitude', 'austin', 'auto', 'automate', 'available', 'avgeek', 'avoid', 'award', 'away', 'awesome', 'awful', 'baby', 'back', 'bad', 'badcustomerservice', 'badservice', 'bag', 'baggage', 'bank', 'base', 'battle', 'bc', 'become', 'begin', 'behind', 'believe', 'best', 'better', 'beyond', 'big', 'bin', 'bird', 'birthday', 'bite', 'blame', 'blue', 'bna', 'board', 'book', 'bos', 'boston', 'bother', 'break', 'bring', 'bs', 'btw', 'bump', 'bus', 'business', 'busy', 'buy', 'bwi', 'cabin', 'call', 'callback', 'cancel', 'captain', 'car', 'card', 'care', 'carry', 'carryon', 'case', 'catch', 'cater', 'cause', 'cc', 'center', 'ceo', 'chairman', 'chance', 'change', 'charge', 'charlotte', 'cheap', 'check', 'checkin', 'chicago', 'child', 'children', 'choice', 'choose', 'city', 'claim', 'class', 'clean', 'clear', 'clearly', 'close', 'clothe', 'clt', 'club', 'coach', 'code', 'coffee', 'cold', 'columbus', 'come', 'communication', 'companion', 'company', 'compensate', 'compensation', 'complain', 'complaint', 'complaints', 'complete', 'completely', 'computer', 'concern', 'condition', 'conf', 'confirm', 'confirmation', 'congrats', 'connect', 'connection', 'connections', 'consider', 'contact', 'continue', 'control', 'cool', 'correct', 'cost', 'count', 'counter', 'country', 'couple', 'course', 'cover', 'crash', 'crazy', 'credit', 'crew', 'cross', 'cs', 'current', 'currently', 'cust', 'customer', 'customers', 'customerservice', 'cut', 'daily', 'dallas', 'damage', 'damn', 'date', 'daughter', 'day', 'days', 'dc', 'dca', 'deal', 'decide', 'definitely', 'deice', 'delay', 'deliver', 'delivery', 'delta', 'den', 'denver', 'deny', 'depart', 'department', 'departure', 'deplane', 'dept', 'deserve', 'desk', 'despite', 'destination', 'destinationdragons', 'detail', 'dfw', 'dfwairport', 'die', 'diego', 'diff', 'difference', 'different', 'direct', 'disappoint', 'disconnect', 'discount', 'disgust', 'dividend', 'dm', 'dmed', 'do', 'dollars', 'domestic', 'door', 'dragons', 'drink', 'drive', 'drop', 'due', 'earlier', 'early', 'earn', 'easy', 'eat', 'either', 'else', 'email', 'emergency', 'employee', 'employees', 'empty', 'end', 'engine', 'enjoy', 'enough', 'enter', 'entertainment', 'entire', 'equipment', 'error', 'especially', 'etc', 'even', 'eventually', 'ever', 'every', 'everyone', 'everything', 'ewr', 'exactly', 'excellent', 'except', 'excite', 'excuse', 'exist', 'exit', 'expect', 'expensive', 'experience', 'expire', 'explain', 'explanation', 'extend', 'extra', 'extremely', 'face', 'fact', 'fail', 'failure', 'fair', 'fall', 'family', 'fan', 'fantastic', 'far', 'fare', 'fault', 'favorite', 'feb', 'february', 'fee', 'feedback', 'feel', 'figure', 'file', 'fill', 'final', 'finally', 'find', 'fine', 'finger', 'first', 'fit', 'fix', 'fl', 'fleek', 'fleet', 'flight', 'flightd', 'flightlation', 'flightlations', 'flightled', 'flightling', 'flightr', 'fll', 'flt', 'fly', 'flyer', 'flyers', 'folks', 'follow', 'food', 'force', 'forever', 'forget', 'form', 'forward', 'four', 'free', 'freeze', 'frequent', 'friday', 'friend', 'friendly', 'friends', 'front', 'frustrate', 'fuck', 'full', 'fun', 'funeral', 'funny', 'future', 'fyi', 'game', 'gate', 'get', 'give', 'glad', 'go', 'god', 'gold', 'good', 'great', 'grind', 'group', 'guess', 'guy', 'haha', 'half', 'hand', 'handle', 'hang', 'happen', 'happy', 'hard', 'hate', 'head', 'hear', 'hell', 'hello', 'help', 'helpful', 'hey', 'hi', 'high', 'hire', 'hit', 'hold', 'home', 'honor', 'hop', 'hope', 'hopefully', 'horrible', 'hotel', 'hour', 'hours', 'houston', 'however', 'hr', 'hrs', 'http', 'https', 'huge', 'human', 'husband', 'iad', 'iah', 'ice', 'id', 'idea', 'ignore', 'imagine', 'imaginedragons', 'important', 'impossible', 'impress', 'improve', 'include', 'inconvenience', 'inflight', 'info', 'inform', 'information', 'inside', 'instead', 'interest', 'international', 'internet', 'intl', 'iphone', 'issue', 'item', 'itinerary', 'jet', 'jetblue', 'jfk', 'job', 'joke', 'keep', 'kid', 'kill', 'kind', 'know', 'kudos', 'la', 'lack', 'lady', 'land', 'las', 'last', 'late', 'lax', 'layover', 'lead', 'learn', 'least', 'leave', 'leg', 'less', 'let', 'letter', 'level', 'lga', 'lie', 'life', 'light', 'like', 'likely', 'limit', 'line', 'link', 'list', 'listen', 'literally', 'little', 'live', 'load', 'locate', 'log', 'lol', 'long', 'longer', 'look', 'lose', 'lot', 'lounge', 'love', 'lovely', 'loyal', 'luck', 'luggage', 'mail', 'main', 'maintenance', 'major', 'make', 'man', 'manage', 'many', 'march', 'market', 'match', 'matter', 'may', 'maybe', 'mco', 'meal', 'mean', 'mechanical', 'media', 'meet', 'member', 'members', 'mention', 'merge', 'merger', 'mess', 'message', 'mexico', 'mia', 'miami', 'middle', 'midnight', 'mileage', 'mileageplus', 'miles', 'min', 'mind', 'mine', 'mins', 'minute', 'minutes', 'miss', 'mistake', 'mobile', 'mom', 'monday', 'money', 'month', 'months', 'morning', 'move', 'much', 'multiple', 'music', 'name', 'nashville', 'nd', 'need', 'never', 'neveragain', 'new', 'newark', 'news', 'next', 'nice', 'night', 'nightmare', 'no', 'non', 'none', 'nonstop', 'nope', 'not', 'note', 'nothing', 'notice', 'notification', 'notify', 'number', 'ny', 'nyc', 'offer', 'office', 'oh', 'ok', 'okay', 'old', 'onboard', 'one', 'ones', 'online', 'onto', 'open', 'operate', 'option', 'options', 'ord', 'order', 'original', 'orlando', 'oscars', 'others', 'outside', 'overhead', 'overnight', 'page', 'part', 'partner', 'party', 'pass', 'passbook', 'passenger', 'passengers', 'past', 'pathetic', 'patience', 'patient', 'pay', 'people', 'per', 'person', 'personal', 'philadelphia', 'philly', 'phl', 'phlairport', 'phoenix', 'phone', 'phx', 'pick', 'pilot', 'place', 'plan', 'plane', 'platinum', 'play', 'please', 'plenty', 'pls', 'plus', 'plz', 'pm', 'point', 'policy', 'poor', 'possible', 'post', 'power', 'ppl', 'prefer', 'premier', 'premium', 'pretty', 'price', 'print', 'priority', 'probably', 'problem', 'problems', 'process', 'program', 'promise', 'prompt', 'provide', 'pull', 'purchase', 'push', 'put', 'question', 'quick', 'raise', 'rate', 'rather', 'rd', 'rdu', 'reach', 'read', 'ready', 'real', 'realize', 'really', 'reason', 'rebook', 'rebooked', 'receipt', 'receive', 'record', 'redeem', 'reflight', 'refund', 'refuse', 'regard', 'reimburse', 'relations', 'remember', 'rent', 'rental', 'rep', 'reply', 'report', 'representative', 'reps', 'request', 'require', 'reschedule', 'reservation', 'reservations', 'resolve', 'respond', 'response', 'result', 'return', 'reward', 'ride', 'ridiculous', 'right', 'rock', 'room', 'round', 'rout', 'route', 'row', 'rt', 'rude', 'ruin', 'rule', 'run', 'runway', 'sad', 'safe', 'safety', 'san', 'saturday', 'save', 'saw', 'say', 'schedule', 'screen', 'screw', 'seat', 'seattle', 'second', 'security', 'see', 'seem', 'select', 'sell', 'send', 'sense', 'serious', 'seriously', 'serve', 'service', 'set', 'several', 'sfo', 'share', 'shit', 'short', 'show', 'sick', 'sign', 'since', 'single', 'sister', 'sit', 'site', 'situation', 'sky', 'sleep', 'slow', 'small', 'smh', 'snack', 'snow', 'social', 'solution', 'someone', 'something', 'son', 'soon', 'sorry', 'sort', 'sound', 'south', 'southwest', 'southwestair', 'space', 'speak', 'special', 'spend', 'st', 'staff', 'stand', 'standby', 'start', 'state', 'status', 'stay', 'steal', 'step', 'stick', 'still', 'stop', 'storm', 'story', 'strand', 'street', 'stuff', 'submit', 'suck', 'suggest', 'suitcase', 'sunday', 'super', 'supervisor', 'support', 'suppose', 'sure', 'surprise', 'svc', 'sw', 'swa', 'switch', 'system', 'systems', 'tag', 'take', 'takeoff', 'talk', 'tarmac', 'team', 'tell', 'terminal', 'terrible', 'th', 'thank', 'thing', 'things', 'think', 'tho', 'though', 'three', 'thru', 'thx', 'ticket', 'till', 'time', 'tire', 'tix', 'tmrw', 'today', 'together', 'tomorrow', 'tonight', 'top', 'total', 'totally', 'touch', 'track', 'train', 'transfer', 'travel', 'traveler', 'travelers', 'treat', 'trip', 'trouble', 'true', 'trueblue', 'trust', 'try', 'tsa', 'tuesday', 'turn', 'tv', 'tweet', 'twice', 'twitter', 'two', 'ua', 'ugh', 'uk', 'unable', 'unacceptable', 'unbelievable', 'understand', 'unfortunately', 'unhappy', 'unhelpful', 'unite', 'unitedairlines', 'update', 'upgrade', 'upset', 'ur', 'us', 'usa', 'usair', 'usairways', 'usairwaysfail', 'use', 'useless', 'usually', 'vacation', 'vegas', 'via', 'video', 'view', 'virgin', 'virginamerica', 'visit', 'volume', 'voucher', 'vouchers', 'wait', 'waive', 'walk', 'wall', 'want', 'warm', 'waste', 'watch', 'water', 'way', 'ways', 'weather', 'web', 'website', 'wed', 'wednesday', 'week', 'weekend', 'weeks', 'welcome', 'well', 'whole', 'wife', 'wifi', 'will', 'win', 'window', 'winter', 'wish', 'without', 'wof', 'wonder', 'wonderful', 'word', 'work', 'world', 'worry', 'worse', 'worst', 'worth', 'would', 'wow', 'write', 'wrong', 'wtf', 'yeah', 'year', 'years', 'yep', 'yes', 'yesterday', 'yet', 'yo', 'yr', 'zero']\n"
     ]
    }
   ],
   "source": [
    "vocab_tfid = tfid_vectorizer.get_feature_names()\n",
    "print (vocab_tfid)"
   ]
  },
  {
   "cell_type": "code",
   "execution_count": 83,
   "metadata": {
    "id": "gTuaGucaQ5pB"
   },
   "outputs": [],
   "source": [
    "XTD_train, XTD_test, ytd_train, ytd_test = train_test_split(train_data_tfid_features, tweets2[\"airline_sentiment\"], test_size=0.3, random_state=42)"
   ]
  },
  {
   "cell_type": "code",
   "execution_count": 84,
   "metadata": {
    "colab": {
     "base_uri": "https://localhost:8080/"
    },
    "id": "k5GQtlPDVthP",
    "outputId": "7957cecc-1821-4aa4-a413-bd73ac5837d4"
   },
   "outputs": [
    {
     "name": "stdout",
     "output_type": "stream",
     "text": [
      "Training the random forest...\n",
      "building tree 1 of 100\n",
      "building tree 2 of 100\n",
      "building tree 3 of 100\n",
      "building tree 4 of 100\n",
      "building tree 5 of 100\n",
      "building tree 6 of 100\n",
      "building tree 7 of 100\n",
      "building tree 8 of 100\n"
     ]
    },
    {
     "name": "stderr",
     "output_type": "stream",
     "text": [
      "[Parallel(n_jobs=8)]: Using backend ThreadingBackend with 8 concurrent workers.\n"
     ]
    },
    {
     "name": "stdout",
     "output_type": "stream",
     "text": [
      "building tree 9 of 100\n",
      "building tree 10 of 100\n",
      "building tree 11 of 100building tree 12 of 100\n",
      "\n",
      "building tree 13 of 100\n",
      "building tree 14 of 100\n",
      "building tree 15 of 100\n",
      "building tree 16 of 100\n",
      "building tree 17 of 100\n",
      "building tree 18 of 100\n",
      "building tree 19 of 100\n",
      "building tree 20 of 100\n",
      "building tree 21 of 100\n",
      "building tree 22 of 100\n",
      "building tree 23 of 100\n",
      "building tree 24 of 100\n",
      "building tree 25 of 100\n",
      "building tree 26 of 100\n",
      "building tree 27 of 100\n",
      "building tree 28 of 100\n",
      "building tree 29 of 100\n",
      "building tree 30 of 100\n",
      "building tree 31 of 100\n",
      "building tree 32 of 100\n",
      "building tree 33 of 100\n",
      "building tree 34 of 100\n",
      "building tree 35 of 100\n",
      "building tree 36 of 100\n"
     ]
    },
    {
     "name": "stderr",
     "output_type": "stream",
     "text": [
      "[Parallel(n_jobs=8)]: Done  25 tasks      | elapsed:    2.7s\n"
     ]
    },
    {
     "name": "stdout",
     "output_type": "stream",
     "text": [
      "building tree 37 of 100\n",
      "building tree 38 of 100\n",
      "building tree 39 of 100\n",
      "building tree 40 of 100\n",
      "building tree 41 of 100\n",
      "building tree 42 of 100\n",
      "building tree 43 of 100\n",
      "building tree 44 of 100\n",
      "building tree 45 of 100\n",
      "building tree 46 of 100\n",
      "building tree 47 of 100\n",
      "building tree 48 of 100\n",
      "building tree 49 of 100\n",
      "building tree 50 of 100\n",
      "building tree 51 of 100\n",
      "building tree 52 of 100\n",
      "building tree 53 of 100\n",
      "building tree 54 of 100\n",
      "building tree 55 of 100\n",
      "building tree 56 of 100\n",
      "building tree 57 of 100\n",
      "building tree 58 of 100\n",
      "building tree 59 of 100\n",
      "building tree 60 of 100\n",
      "building tree 61 of 100\n",
      "building tree 62 of 100\n",
      "building tree 63 of 100\n",
      "building tree 64 of 100\n",
      "building tree 65 of 100\n",
      "building tree 66 of 100\n",
      "building tree 67 of 100\n",
      "building tree 68 of 100\n",
      "building tree 69 of 100\n",
      "building tree 70 of 100\n",
      "building tree 71 of 100\n",
      "building tree 72 of 100\n",
      "building tree 73 of 100\n",
      "building tree 74 of 100\n",
      "building tree 75 of 100\n",
      "building tree 76 of 100\n",
      "building tree 77 of 100\n",
      "building tree 78 of 100\n",
      "building tree 79 of 100\n",
      "building tree 80 of 100\n",
      "building tree 81 of 100\n",
      "building tree 82 of 100\n",
      "building tree 83 of 100\n",
      "building tree 84 of 100\n",
      "building tree 85 of 100building tree 86 of 100\n",
      "\n",
      "building tree 87 of 100\n",
      "building tree 88 of 100\n",
      "building tree 89 of 100\n",
      "building tree 90 of 100\n",
      "building tree 91 of 100\n",
      "building tree 92 of 100\n",
      "building tree 93 of 100\n",
      "building tree 94 of 100\n",
      "building tree 95 of 100\n",
      "building tree 96 of 100\n",
      "building tree 97 of 100\n",
      "building tree 98 of 100\n",
      "building tree 99 of 100\n",
      "building tree 100 of 100\n"
     ]
    },
    {
     "name": "stderr",
     "output_type": "stream",
     "text": [
      "[Parallel(n_jobs=8)]: Done 100 out of 100 | elapsed:    8.9s finished\n"
     ]
    },
    {
     "name": "stdout",
     "output_type": "stream",
     "text": [
      "RandomForestClassifier(bootstrap=True, ccp_alpha=0.0, class_weight=None,\n",
      "                       criterion='gini', max_depth=None, max_features='auto',\n",
      "                       max_leaf_nodes=None, max_samples=None,\n",
      "                       min_impurity_decrease=0.0, min_impurity_split=None,\n",
      "                       min_samples_leaf=1, min_samples_split=2,\n",
      "                       min_weight_fraction_leaf=0.0, n_estimators=100, n_jobs=8,\n",
      "                       oob_score=False, random_state=None, verbose=2,\n",
      "                       warm_start=False)\n"
     ]
    },
    {
     "name": "stderr",
     "output_type": "stream",
     "text": [
      "[Parallel(n_jobs=8)]: Using backend LokyBackend with 8 concurrent workers.\n",
      "[Parallel(n_jobs=8)]: Done  25 tasks      | elapsed:    6.3s\n",
      "[Parallel(n_jobs=8)]: Done 100 out of 100 | elapsed:   23.3s finished\n",
      "[Parallel(n_jobs=8)]: Using backend ThreadingBackend with 8 concurrent workers.\n",
      "[Parallel(n_jobs=8)]: Done  25 tasks      | elapsed:    0.0s\n",
      "[Parallel(n_jobs=8)]: Done 100 out of 100 | elapsed:    0.1s finished\n",
      "[Parallel(n_jobs=8)]: Using backend LokyBackend with 8 concurrent workers.\n",
      "[Parallel(n_jobs=8)]: Done  25 tasks      | elapsed:    6.5s\n",
      "[Parallel(n_jobs=8)]: Done 100 out of 100 | elapsed:   22.1s finished\n",
      "[Parallel(n_jobs=8)]: Using backend ThreadingBackend with 8 concurrent workers.\n",
      "[Parallel(n_jobs=8)]: Done  25 tasks      | elapsed:    0.0s\n",
      "[Parallel(n_jobs=8)]: Done 100 out of 100 | elapsed:    0.1s finished\n",
      "[Parallel(n_jobs=8)]: Using backend LokyBackend with 8 concurrent workers.\n",
      "[Parallel(n_jobs=8)]: Done  25 tasks      | elapsed:    6.7s\n",
      "[Parallel(n_jobs=8)]: Done 100 out of 100 | elapsed:   22.8s finished\n",
      "[Parallel(n_jobs=8)]: Using backend ThreadingBackend with 8 concurrent workers.\n",
      "[Parallel(n_jobs=8)]: Done  25 tasks      | elapsed:    0.0s\n",
      "[Parallel(n_jobs=8)]: Done 100 out of 100 | elapsed:    0.1s finished\n",
      "[Parallel(n_jobs=8)]: Using backend LokyBackend with 8 concurrent workers.\n",
      "[Parallel(n_jobs=8)]: Done  25 tasks      | elapsed:    6.8s\n",
      "[Parallel(n_jobs=8)]: Done 100 out of 100 | elapsed:   23.6s finished\n",
      "[Parallel(n_jobs=8)]: Using backend ThreadingBackend with 8 concurrent workers.\n",
      "[Parallel(n_jobs=8)]: Done  25 tasks      | elapsed:    0.0s\n",
      "[Parallel(n_jobs=8)]: Done 100 out of 100 | elapsed:    0.1s finished\n",
      "[Parallel(n_jobs=8)]: Using backend LokyBackend with 8 concurrent workers.\n",
      "[Parallel(n_jobs=8)]: Done  25 tasks      | elapsed:    6.4s\n",
      "[Parallel(n_jobs=8)]: Done 100 out of 100 | elapsed:   24.1s finished\n",
      "[Parallel(n_jobs=8)]: Using backend ThreadingBackend with 8 concurrent workers.\n",
      "[Parallel(n_jobs=8)]: Done  25 tasks      | elapsed:    0.0s\n",
      "[Parallel(n_jobs=8)]: Done 100 out of 100 | elapsed:    0.1s finished\n",
      "[Parallel(n_jobs=8)]: Using backend LokyBackend with 8 concurrent workers.\n",
      "[Parallel(n_jobs=8)]: Done  25 tasks      | elapsed:    7.1s\n",
      "[Parallel(n_jobs=8)]: Done 100 out of 100 | elapsed:   24.8s finished\n",
      "[Parallel(n_jobs=8)]: Using backend ThreadingBackend with 8 concurrent workers.\n",
      "[Parallel(n_jobs=8)]: Done  25 tasks      | elapsed:    0.0s\n",
      "[Parallel(n_jobs=8)]: Done 100 out of 100 | elapsed:    0.1s finished\n",
      "[Parallel(n_jobs=8)]: Using backend LokyBackend with 8 concurrent workers.\n",
      "[Parallel(n_jobs=8)]: Done  25 tasks      | elapsed:    8.4s\n",
      "[Parallel(n_jobs=8)]: Done 100 out of 100 | elapsed:   27.9s finished\n",
      "[Parallel(n_jobs=8)]: Using backend ThreadingBackend with 8 concurrent workers.\n",
      "[Parallel(n_jobs=8)]: Done  25 tasks      | elapsed:    0.0s\n",
      "[Parallel(n_jobs=8)]: Done 100 out of 100 | elapsed:    0.1s finished\n",
      "[Parallel(n_jobs=8)]: Using backend LokyBackend with 8 concurrent workers.\n",
      "[Parallel(n_jobs=8)]: Done  25 tasks      | elapsed:    7.0s\n",
      "[Parallel(n_jobs=8)]: Done 100 out of 100 | elapsed:   23.5s finished\n",
      "[Parallel(n_jobs=8)]: Using backend ThreadingBackend with 8 concurrent workers.\n",
      "[Parallel(n_jobs=8)]: Done  25 tasks      | elapsed:    0.0s\n",
      "[Parallel(n_jobs=8)]: Done 100 out of 100 | elapsed:    0.1s finished\n",
      "[Parallel(n_jobs=8)]: Using backend LokyBackend with 8 concurrent workers.\n",
      "[Parallel(n_jobs=8)]: Done  25 tasks      | elapsed:    6.3s\n",
      "[Parallel(n_jobs=8)]: Done 100 out of 100 | elapsed:   22.8s finished\n",
      "[Parallel(n_jobs=8)]: Using backend ThreadingBackend with 8 concurrent workers.\n",
      "[Parallel(n_jobs=8)]: Done  25 tasks      | elapsed:    0.0s\n",
      "[Parallel(n_jobs=8)]: Done 100 out of 100 | elapsed:    0.1s finished\n",
      "[Parallel(n_jobs=8)]: Using backend LokyBackend with 8 concurrent workers.\n",
      "[Parallel(n_jobs=8)]: Done  25 tasks      | elapsed:    6.6s\n",
      "[Parallel(n_jobs=8)]: Done 100 out of 100 | elapsed:   24.0s finished\n",
      "[Parallel(n_jobs=8)]: Using backend ThreadingBackend with 8 concurrent workers.\n",
      "[Parallel(n_jobs=8)]: Done  25 tasks      | elapsed:    0.0s\n",
      "[Parallel(n_jobs=8)]: Done 100 out of 100 | elapsed:    0.1s finished\n"
     ]
    },
    {
     "name": "stdout",
     "output_type": "stream",
     "text": [
      "0.7287568306010929\n"
     ]
    }
   ],
   "source": [
    "# Initialize a Random Forest classifier with 100 trees\n",
    "forest2 = RandomForestClassifier(verbose=2,n_jobs=8,n_estimators = 100) \n",
    "# Fit the forest to the training set, using the bag of words as \n",
    "# features and the sentiment labels as the response variable\n",
    "#\n",
    "# This may take a few minutes to run\n",
    "print (\"Training the random forest...\")\n",
    "forest2 = forest2.fit(XTD_train, ytd_train)\n",
    "# random forest performance through cross vaidation \n",
    "print (forest2)\n",
    "print (np.mean(cross_val_score(forest2,train_data_tfid_features,tweets2[\"airline_sentiment\"],cv=10)))"
   ]
  },
  {
   "cell_type": "code",
   "execution_count": 85,
   "metadata": {
    "colab": {
     "base_uri": "https://localhost:8080/"
    },
    "id": "zQmjCpFTRZVP",
    "outputId": "46e8328c-57f6-4308-f3fe-a7e00f1fd938"
   },
   "outputs": [
    {
     "name": "stderr",
     "output_type": "stream",
     "text": [
      "[Parallel(n_jobs=8)]: Using backend ThreadingBackend with 8 concurrent workers.\n",
      "[Parallel(n_jobs=8)]: Done  25 tasks      | elapsed:    0.1s\n",
      "[Parallel(n_jobs=8)]: Done 100 out of 100 | elapsed:    0.3s finished\n"
     ]
    }
   ],
   "source": [
    "# Predict the result for test data using the model built above.\n",
    "\n",
    "result2 = forest2.predict(XTD_test)"
   ]
  },
  {
   "cell_type": "code",
   "execution_count": 86,
   "metadata": {
    "colab": {
     "base_uri": "https://localhost:8080/",
     "height": 497
    },
    "id": "_jJdHf88Rc-m",
    "outputId": "36c87dfc-659a-4306-826b-0703b4b3ad6b"
   },
   "outputs": [
    {
     "name": "stdout",
     "output_type": "stream",
     "text": [
      "[[2630  134   50]\n",
      " [ 424  399   61]\n",
      " [ 209   96  389]]\n"
     ]
    },
    {
     "data": {
      "text/plain": [
       "<matplotlib.axes._subplots.AxesSubplot at 0x7f8204738e50>"
      ]
     },
     "execution_count": 86,
     "metadata": {
      "tags": []
     },
     "output_type": "execute_result"
    },
    {
     "data": {
      "image/png": "[encoded data removed]",
      "text/plain": [
       "<Figure size 720x504 with 2 Axes>"
      ]
     },
     "metadata": {
      "needs_background": "light",
      "tags": []
     },
     "output_type": "display_data"
    }
   ],
   "source": [
    "# Printing and Plotting Confusion matrix\n",
    "\n",
    "conf_mat2 = confusion_matrix(ytd_test, result2)\n",
    "print(conf_mat2)\n",
    "\n",
    "df_cm2 = pd.DataFrame(conf_mat2, index = [i for i in \"012\"],\n",
    "                      columns = [i for i in \"012\"])\n",
    "plt.figure(figsize = (10,7))\n",
    "sns.heatmap(df_cm2, annot=True, fmt='g')"
   ]
  },
  {
   "cell_type": "code",
   "execution_count": 87,
   "metadata": {
    "colab": {
     "base_uri": "https://localhost:8080/"
    },
    "id": "ENdPkO0KRvFp",
    "outputId": "043253b3-fb27-4138-81d9-f61c0572929a"
   },
   "outputs": [
    {
     "name": "stdout",
     "output_type": "stream",
     "text": [
      "=== Classification Report ===\n",
      "              precision    recall  f1-score   support\n",
      "\n",
      "           0       0.81      0.93      0.87      2814\n",
      "           1       0.63      0.45      0.53       884\n",
      "           2       0.78      0.56      0.65       694\n",
      "\n",
      "    accuracy                           0.78      4392\n",
      "   macro avg       0.74      0.65      0.68      4392\n",
      "weighted avg       0.77      0.78      0.76      4392\n",
      "\n"
     ]
    }
   ],
   "source": [
    "print(\"=== Classification Report ===\")\n",
    "print(classification_report(ytd_test, result2))"
   ]
  },
  {
   "cell_type": "markdown",
   "metadata": {
    "id": "TPwlvTuCTfYn"
   },
   "source": [
    "### Summary"
   ]
  },
  {
   "cell_type": "markdown",
   "metadata": {
    "id": "OiFpDOUoThh6"
   },
   "source": [
    "\n",
    "    Dataset has reviews in alpha-numeric and text format with HTML tags, sentiment score is on the scale of 0 to 2, with '0' being 'negative','1' being 'neutral' and '2' being positive\n",
    "    Pre-processing was done to remove HTML tags, numbers, special characters, converted to lower case, to remove contractions and then lemmatizing was performed.\n",
    "    Random Forest model was build on the dataset ( with CountVectorizer and TdifVectorizer)\n",
    "    Ramdom Forest with ContVectorizer has slightly better accuracy than RF with TfidVectorizer.\n",
    "\n",
    "\n",
    "\n",
    "\n"
   ]
  }
 ],
 "metadata": {
  "colab": {
   "collapsed_sections": [],
   "name": "TwitterUSAirlineSentiment.ipynb",
   "provenance": []
  },
  "kernelspec": {
   "display_name": "Python 3",
   "language": "python",
   "name": "python3"
  },
  "language_info": {
   "codemirror_mode": {
    "name": "ipython",
    "version": 3
   },
   "file_extension": ".py",
   "mimetype": "text/x-python",
   "name": "python",
   "nbconvert_exporter": "python",
   "pygments_lexer": "ipython3",
   "version": "3.8.2"
  }
 },
 "nbformat": 4,
 "nbformat_minor": 1
}
